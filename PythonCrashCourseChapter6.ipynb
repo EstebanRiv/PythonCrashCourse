{
 "cells": [
  {
   "cell_type": "markdown",
   "metadata": {},
   "source": [
    "# Python Crash Course\n",
    "A Hands-on, Project-based Introduction to Programming by Eric Matthes\n",
    "\n",
    "# Chapter 6 - Dictionaries"
   ]
  },
  {
   "cell_type": "markdown",
   "metadata": {},
   "source": [
    "## ⚠️ 6-1. Person\n",
    "Use a dictionary to store information about a person you know. Store their first name, last name, age, and the city in which they live. You should have keys such as first_name, last_name, age, and city. Print each piece of information stored in your dictionary."
   ]
  },
  {
   "cell_type": "code",
   "execution_count": 4,
   "metadata": {},
   "outputs": [
    {
     "name": "stdout",
     "output_type": "stream",
     "text": [
      "First Name: John\n",
      "Last Name: Doe\n",
      "Age: 33\n",
      "City: New York\n"
     ]
    }
   ],
   "source": [
    "person = { \"firstName\": \"John\",\n",
    "           \"lastName\": \"Doe\",\n",
    "           \"age\": 33,\n",
    "           \"city\": \"New York\" }\n",
    "\n",
    "print(\"First Name: \" + person[\"firstName\"])\n",
    "print(\"Last Name: \" + person[\"lastName\"])\n",
    "print(\"Age: \" + str(person[\"age\"]))\n",
    "print(\"City: \" + person[\"city\"])"
   ]
  },
  {
   "cell_type": "markdown",
   "metadata": {},
   "source": [
    "## ⚠️ 6-2. Favorite Numbers\n",
    "Use a dictionary to store people’s favorite numbers. Think of five names, and use them as keys in your dictionary. Think of a favorite number for each person, and store each as a value in your dictionary. Print each person’s name and their favorite number. For even more fun, poll a few friends and get some actual data for your program."
   ]
  },
  {
   "cell_type": "code",
   "execution_count": 8,
   "metadata": {},
   "outputs": [
    {
     "name": "stdout",
     "output_type": "stream",
     "text": [
      "Kevin's favorite number is 11\n",
      "Raul's favorite number is 13\n",
      "Kate's favorite number is 15\n",
      "Anne's favorite number is 17\n",
      "Jane's favorite number is 19\n"
     ]
    }
   ],
   "source": [
    "favoriteNumber = { \"Kevin\": 11,\n",
    "                   \"Raul\": 13,\n",
    "                   \"Kate\": 15,\n",
    "                   \"Anne\": 17,\n",
    "                   \"Jane\": 19 }\n",
    "\n",
    "print(\"Kevin's favorite number is \" + str(favoriteNumber[\"Kevin\"]))\n",
    "print(\"Raul's favorite number is \" + str(favoriteNumber[\"Raul\"]))\n",
    "print(\"Kate's favorite number is \" + str(favoriteNumber[\"Kate\"]))\n",
    "print(\"Anne's favorite number is \" + str(favoriteNumber[\"Anne\"]))\n",
    "print(\"Jane's favorite number is \" + str(favoriteNumber[\"Jane\"]))"
   ]
  },
  {
   "cell_type": "markdown",
   "metadata": {},
   "source": [
    "## ⚠️ 6-3. Glossary\n",
    "A Python dictionary can be used to model an actual dictionary. However, to avoid confusion, let’s call it a glossary.\n",
    "\n",
    "- Think of five programming words you’ve learned about in the previous chapters. Use these words as the keys in your glossary, and store their meanings as values.\n",
    "\n",
    "- Print each word and its meaning as neatly formatted output. You might print the word followed by a colon and then its meaning, or print the word on one line and then print its meaning indented on a second line. Use the newline character (\\n) to insert a blank line between each word-meaning pair in your output."
   ]
  },
  {
   "cell_type": "code",
   "execution_count": 12,
   "metadata": {},
   "outputs": [
    {
     "name": "stdout",
     "output_type": "stream",
     "text": [
      "Word1:\n",
      "\tMeaning1\n",
      "Word2:\n",
      "\tMeaning2\n",
      "Word3:\n",
      "\tMeaning3\n",
      "Word4:\n",
      "\tMeaning4\n",
      "Word5:\n",
      "\tMeaning5\n"
     ]
    }
   ],
   "source": [
    "glossary = {}\n",
    "\n",
    "glossary[\"word1\"] = \"Meaning1\"\n",
    "glossary[\"word2\"] = \"Meaning2\"\n",
    "glossary[\"word3\"] = \"Meaning3\"\n",
    "glossary[\"word4\"] = \"Meaning4\"\n",
    "glossary[\"word5\"] = \"Meaning5\"\n",
    "\n",
    "print(\"Word1:\\n\\t\" + glossary[\"word1\"])\n",
    "print(\"Word2:\\n\\t\" + glossary[\"word2\"])\n",
    "print(\"Word3:\\n\\t\" + glossary[\"word3\"])\n",
    "print(\"Word4:\\n\\t\" + glossary[\"word4\"])\n",
    "print(\"Word5:\\n\\t\" + glossary[\"word5\"])"
   ]
  },
  {
   "cell_type": "markdown",
   "metadata": {},
   "source": [
    "## ⚠️ 6-4. Glossary 2\n",
    "Now that you know how to loop through a dictionary, clean up the code from Exercise 6-3 (page 102) by replacing your series of print statements with a loop that runs through the dictionary’s keys and values.\n",
    "When you’re sure that your loop works, add five more Python terms to your glossary. When you run your program again, these new words and meanings should automatically be included in the output."
   ]
  },
  {
   "cell_type": "code",
   "execution_count": 14,
   "metadata": {},
   "outputs": [
    {
     "name": "stdout",
     "output_type": "stream",
     "text": [
      "word1:\n",
      "\tMeaning1\n",
      "word2:\n",
      "\tMeaning2\n",
      "word3:\n",
      "\tMeaning3\n",
      "word4:\n",
      "\tMeaning4\n",
      "word5:\n",
      "\tMeaning5\n",
      "word6:\n",
      "\tMeaning6\n",
      "word7:\n",
      "\tMeaning7\n",
      "word8:\n",
      "\tMeaning8\n",
      "word9:\n",
      "\tMeaning9\n",
      "word10:\n",
      "\tMeaning10\n"
     ]
    }
   ],
   "source": [
    "glossary = {}\n",
    "\n",
    "glossary[\"word1\"] = \"Meaning1\"\n",
    "glossary[\"word2\"] = \"Meaning2\"\n",
    "glossary[\"word3\"] = \"Meaning3\"\n",
    "glossary[\"word4\"] = \"Meaning4\"\n",
    "glossary[\"word5\"] = \"Meaning5\"\n",
    "glossary[\"word6\"] = \"Meaning6\"\n",
    "glossary[\"word7\"] = \"Meaning7\"\n",
    "glossary[\"word8\"] = \"Meaning8\"\n",
    "glossary[\"word9\"] = \"Meaning9\"\n",
    "glossary[\"word10\"] = \"Meaning10\"\n",
    "\n",
    "for word,meaning in glossary.items():\n",
    "    print(word + \":\\n\\t\" + meaning)"
   ]
  },
  {
   "cell_type": "markdown",
   "metadata": {},
   "source": [
    "## ⚠️ 6-5. Rivers\n",
    "Make a dictionary containing three major rivers and the country each river runs through. One key-value pair might be 'nile': 'egypt'.\n",
    "\n",
    "- Use a loop to print a sentence about each river, such as The Nile runs through Egypt.\n",
    "\n",
    "- Use a loop to print the name of each river included in the dictionary.\n",
    "\n",
    "- Use a loop to print the name of each country included in the dictionary."
   ]
  },
  {
   "cell_type": "code",
   "execution_count": 18,
   "metadata": {},
   "outputs": [
    {
     "name": "stdout",
     "output_type": "stream",
     "text": [
      "The Nile runs through Egypt\n",
      "The Columbia runs through United States\n",
      "The Tarcoles runs through Costa Rica\n",
      "\n",
      "Rivers:\n",
      "\tnile\n",
      "\tcolumbia\n",
      "\ttarcoles\n",
      "\n",
      "Countries:\n",
      "\tegypt\n",
      "\tunited states\n",
      "\tcosta rica\n"
     ]
    }
   ],
   "source": [
    "rivers = {}\n",
    "\n",
    "rivers[\"nile\"] = \"egypt\"\n",
    "rivers[\"columbia\"] = \"united states\"\n",
    "rivers[\"tarcoles\"] = \"costa rica\"\n",
    "\n",
    "for river,country in rivers.items():\n",
    "    print(\"The \" + river.title() + \" runs through \" + country.title())\n",
    "\n",
    "print(\"\\nRivers:\")\n",
    "for river in rivers.keys():\n",
    "    print(\"\\t\" + river)\n",
    "\n",
    "print(\"\\nCountries:\")\n",
    "for country in rivers.values():\n",
    "    print(\"\\t\" + country)"
   ]
  },
  {
   "cell_type": "markdown",
   "metadata": {},
   "source": [
    "## ⚠️ 6-6. Polling\n",
    "Use the code in favorite_languages.py (page 104).\n",
    "\n",
    "- Make a list of people who should take the favorite languages poll. Include some names that are already in the dictionary and some that are not.\n",
    "\n",
    "- Loop through the list of people who should take the poll. If they have already taken the poll, print a message thanking them for responding. If they have not yet taken the poll, print a message inviting them to take the poll."
   ]
  },
  {
   "cell_type": "code",
   "execution_count": 20,
   "metadata": {},
   "outputs": [
    {
     "name": "stdout",
     "output_type": "stream",
     "text": [
      "Thank you jen, I already have your answer.\n",
      "What is your favorite programming language isacc?\n",
      "What is your favorite programming language lucas?\n",
      "Thank you phil, I already have your answer.\n"
     ]
    }
   ],
   "source": [
    "people = [\"jen\",\"isacc\",\"lucas\",\"phil\"]\n",
    "\n",
    "favorite_languages = { 'jen': 'python',\n",
    "                       'sarah': 'c',\n",
    "                       'edward': 'ruby',\n",
    "                       'phil': 'python' }\n",
    "\n",
    "if people:\n",
    "    for name in people:\n",
    "        if name in favorite_languages.keys():\n",
    "            print(\"Thank you \" + name + \", I already have your answer.\")\n",
    "        else:\n",
    "            print(\"What is your favorite programming language \" + name + \"?\")"
   ]
  },
  {
   "cell_type": "markdown",
   "metadata": {},
   "source": [
    "## ⚠️ 6-7. People\n",
    "Start with the program you wrote for Exercise 6-1 (page 102). Make two new dictionaries representing different people, and store all three dictionaries in a list called people. Loop through your list of people. As you loop through the list, print everything you know about each person."
   ]
  },
  {
   "cell_type": "markdown",
   "metadata": {},
   "source": [
    "## ⚠️ 6-8. Pets\n",
    "Make several dictionaries, where the name of each dictionary is the name of a pet. In each dictionary, include the kind of animal and the owner’s name. Store these dictionaries in a list called pets. Next, loop through your list and as you do print everything you know about each pet."
   ]
  },
  {
   "cell_type": "markdown",
   "metadata": {},
   "source": [
    "## ⚠️ 6-9. Favorite Places\n",
    "Make a dictionary called favorite_places. Think of three names to use as keys in the dictionary, and store one to three favorite places for each person. To make this exercise a bit more interesting, ask some friends to name a few of their favorite places. Loop through the dictionary, and print each person’s name and their favorite places."
   ]
  },
  {
   "cell_type": "markdown",
   "metadata": {},
   "source": [
    "## ⚠️ 6-10. Favorite Numbers\n",
    "Modify your program from Exercise 6-2 (page 102) so each person can have more than one favorite number. Then print each person’s name along with their favorite numbers."
   ]
  },
  {
   "cell_type": "markdown",
   "metadata": {},
   "source": [
    "## ⚠️ 6-11. Cities\n",
    "Make a dictionary called cities. Use the names of three cities as keys in your dictionary. Create a dictionary of information about each city and include the country that the city is in, its approximate population, and one fact about that city. The keys for each city’s dictionary should be something like country, population, and fact. Print the name of each city and all of the information you have stored about it."
   ]
  },
  {
   "cell_type": "markdown",
   "metadata": {},
   "source": [
    "## ⚠️ 6-12. Extensions\n",
    "We’re now working with examples that are complex enough that they can be extended in any number of ways. Use one of the example programs from this chapter, and extend it by adding new keys and values, changing the context of the program or improving the formatting of the output."
   ]
  }
 ],
 "metadata": {
  "interpreter": {
   "hash": "b89b5cfaba6639976dc87ff2fec6d58faec662063367e2c229c520fe71072417"
  },
  "kernelspec": {
   "display_name": "Python 3.10.0 64-bit",
   "name": "python3"
  },
  "language_info": {
   "codemirror_mode": {
    "name": "ipython",
    "version": 3
   },
   "file_extension": ".py",
   "mimetype": "text/x-python",
   "name": "python",
   "nbconvert_exporter": "python",
   "pygments_lexer": "ipython3",
   "version": "3.10.0"
  },
  "orig_nbformat": 4
 },
 "nbformat": 4,
 "nbformat_minor": 2
}
