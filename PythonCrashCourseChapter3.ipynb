{
 "cells": [
  {
   "cell_type": "markdown",
   "source": [
    "# Python Crash Course\n",
    "A Hands-on, Project-based Introduction to Programming by Eric Matthes"
   ],
   "metadata": {}
  },
  {
   "cell_type": "markdown",
   "source": [
    "# Chapter 3 - Introducing Lists"
   ],
   "metadata": {}
  },
  {
   "cell_type": "markdown",
   "source": [
    "## ⚠️ 3-1. Names\n",
    "Store the names of a few of your friends in a list called names. Print each person’s name by accessing each element in the list, one at a time."
   ],
   "metadata": {}
  },
  {
   "cell_type": "code",
   "execution_count": 60,
   "source": [
    "# Local variables\n",
    "friends = [\"Michael Jordan\",\"Tiger Woods\", \"Roger Federer\"]\n",
    "\n",
    "print(friends[0])\n",
    "print(friends[1])\n",
    "print(friends[2])\n"
   ],
   "outputs": [
    {
     "output_type": "stream",
     "name": "stdout",
     "text": [
      "Michael Jordan\n",
      "Tiger Woods\n",
      "Roger Federer\n"
     ]
    }
   ],
   "metadata": {}
  },
  {
   "cell_type": "markdown",
   "source": [
    "## ⚠️ 3-2. Greetings\n",
    "Start with the list you used in Exercise 3-1, but instead of just printing each person’s name, print a message to them. The text of each message should be the same, but each message should be personalized with the person’s name."
   ],
   "metadata": {}
  },
  {
   "cell_type": "code",
   "execution_count": 61,
   "source": [
    "# Local variables\n",
    "friends = [\"Michael Jordan\",\"Tiger Woods\", \"Roger Federer\"]\n",
    "message1 = \"Hello \"\n",
    "message2 = \"! nice to see you!\"\n",
    "\n",
    "print(message1 + friends[0] + message2)\n",
    "print(message1 + friends[1] + message2)\n",
    "print(message1 + friends[2] + message2)"
   ],
   "outputs": [
    {
     "output_type": "stream",
     "name": "stdout",
     "text": [
      "Hello Michael Jordan! nice to see you!\n",
      "Hello Tiger Woods! nice to see you!\n",
      "Hello Roger Federer! nice to see you!\n"
     ]
    }
   ],
   "metadata": {}
  },
  {
   "cell_type": "markdown",
   "source": [
    "## ⚠️ 3-3. Your Own List\n",
    "Think of your favorite mode of transportation, such as a motorcycle or a car, and make a list that stores several examples. Use your list to print a series of statements about these items, such as “I would like to own a Honda motorcycle.”"
   ],
   "metadata": {}
  },
  {
   "cell_type": "code",
   "execution_count": 62,
   "source": [
    "# Local variables\n",
    "items = [\"car\", \"bike\", \"skateboard\"]\n",
    "message = \"I need to save money and buy a new \"\n",
    "\n",
    "print(message + items[0])\n",
    "print(message + items[1])\n",
    "print(message + items[2])"
   ],
   "outputs": [
    {
     "output_type": "stream",
     "name": "stdout",
     "text": [
      "I need to save money and buy a new car\n",
      "I need to save money and buy a new bike\n",
      "I need to save money and buy a new skateboard\n"
     ]
    }
   ],
   "metadata": {}
  },
  {
   "cell_type": "markdown",
   "source": [
    "## ⚠️ 3-4. Guest List\n",
    "If you could invite anyone, living or deceased, to dinner, who would you invite? Make a list that includes at least three people you’d like to invite to dinner. Then use your list to print a message to each person, inviting them to dinner."
   ],
   "metadata": {}
  },
  {
   "cell_type": "code",
   "execution_count": 63,
   "source": [
    "# Local variables\n",
    "guests = [\"Michael\",\"Tiger\", \"Roger\"]\n",
    "helloMessage = \"Hello \"\n",
    "inviteMessage = \", would you like to have dinner with us next tuesday?\"\n",
    "\n",
    "print(helloMessage + guests[0] + inviteMessage)\n",
    "print(helloMessage + guests[1] + inviteMessage)\n",
    "print(helloMessage + guests[2] + inviteMessage)\n"
   ],
   "outputs": [
    {
     "output_type": "stream",
     "name": "stdout",
     "text": [
      "Hello Michael, would you like to have dinner with us next tuesday?\n",
      "Hello Tiger, would you like to have dinner with us next tuesday?\n",
      "Hello Roger, would you like to have dinner with us next tuesday?\n"
     ]
    }
   ],
   "metadata": {}
  },
  {
   "cell_type": "markdown",
   "source": [
    "## ⚠️ 3-5. Changing Guest List\n",
    "You just heard that one of your guests can’t make the dinner, so you need to send out a new set of invitations. You’ll have to think of someone else to invite.\n",
    "\n",
    "- Start with your program from Exercise 3-4. Add a print statement at the end of your program stating the name of the guest who can’t make it.\n",
    "- Modify your list, replacing the name of the guest who can’t make it with the name of the new person you are inviting.\n",
    "- Print a second set of invitation messages, one for each person who is still in your list."
   ],
   "metadata": {}
  },
  {
   "cell_type": "code",
   "execution_count": 64,
   "source": [
    "# Local variables\n",
    "guests = [\"Michael\",\"Tiger\", \"Roger\"]\n",
    "helloMessage = \"Hello \"\n",
    "inviteMessage = \", would you like to have dinner with us next tuesday?\"\n",
    "\n",
    "print(helloMessage + guests[0] + inviteMessage)\n",
    "print(helloMessage + guests[1] + inviteMessage)\n",
    "print(helloMessage + guests[2] + inviteMessage)\n",
    "\n",
    "print(\"\\nIt seems \" + guests[2] + \" cannot make it.\\n\")\n",
    "guests[2] = \"Adele\"\n",
    "\n",
    "print(helloMessage + guests[0] + inviteMessage)\n",
    "print(helloMessage + guests[1] + inviteMessage)\n",
    "print(helloMessage + guests[2] + inviteMessage)"
   ],
   "outputs": [
    {
     "output_type": "stream",
     "name": "stdout",
     "text": [
      "Hello Michael, would you like to have dinner with us next tuesday?\n",
      "Hello Tiger, would you like to have dinner with us next tuesday?\n",
      "Hello Roger, would you like to have dinner with us next tuesday?\n",
      "\n",
      "It seems Roger cannot make it.\n",
      "\n",
      "Hello Michael, would you like to have dinner with us next tuesday?\n",
      "Hello Tiger, would you like to have dinner with us next tuesday?\n",
      "Hello Adele, would you like to have dinner with us next tuesday?\n"
     ]
    }
   ],
   "metadata": {}
  },
  {
   "cell_type": "markdown",
   "source": [
    "## ⚠️ 3-6. More Guests\n",
    "You just found a bigger dinner table, so now more space is available. Think of three more guests to invite to dinner.\n",
    "\n",
    "- Start with your program from Exercise 3-4 or Exercise 3-5. Add a print statement to the end of your program informing people that you found a bigger dinner table.\n",
    "- Use insert() to add one new guest to the beginning of your list.\n",
    "- Use insert() to add one new guest to the middle of your list.\n",
    "- Use append() to add one new guest to the end of your list.\n",
    "- Print a new set of invitation messages, one for each person in your list."
   ],
   "metadata": {}
  },
  {
   "cell_type": "code",
   "execution_count": 65,
   "source": [
    "# Local variables\n",
    "guests = [\"Michael\",\"Tiger\", \"Roger\"]\n",
    "helloMessage = \"Hello \"\n",
    "inviteMessage = \", would you like to have dinner with us next tuesday?\"\n",
    "\n",
    "# Print guest list\n",
    "print(helloMessage + guests[0] + inviteMessage)\n",
    "print(helloMessage + guests[1] + inviteMessage)\n",
    "print(helloMessage + guests[2] + inviteMessage)\n",
    "\n",
    "print(\"\\nOh wait, I just found a bigger table, let me invite 3 more people ...\\n\")\n",
    "\n",
    "# Add 3 new guests\n",
    "guests.insert(0, \"Tom\")\n",
    "guests.insert(2, \"Jane\")\n",
    "guests.append(\"Diana\")\n",
    "\n",
    "# Print guest list again\n",
    "print(helloMessage + guests[0] + inviteMessage)\n",
    "print(helloMessage + guests[1] + inviteMessage)\n",
    "print(helloMessage + guests[2] + inviteMessage)\n",
    "print(helloMessage + guests[3] + inviteMessage)\n",
    "print(helloMessage + guests[4] + inviteMessage)\n",
    "print(helloMessage + guests[5] + inviteMessage)"
   ],
   "outputs": [
    {
     "output_type": "stream",
     "name": "stdout",
     "text": [
      "Hello Michael, would you like to have dinner with us next tuesday?\n",
      "Hello Tiger, would you like to have dinner with us next tuesday?\n",
      "Hello Roger, would you like to have dinner with us next tuesday?\n",
      "\n",
      "Oh wait, I just found a bigger table, let me invite 3 more people ...\n",
      "\n",
      "Hello Tom, would you like to have dinner with us next tuesday?\n",
      "Hello Michael, would you like to have dinner with us next tuesday?\n",
      "Hello Jane, would you like to have dinner with us next tuesday?\n",
      "Hello Tiger, would you like to have dinner with us next tuesday?\n",
      "Hello Roger, would you like to have dinner with us next tuesday?\n",
      "Hello Diana, would you like to have dinner with us next tuesday?\n"
     ]
    }
   ],
   "metadata": {}
  },
  {
   "cell_type": "markdown",
   "source": [
    "## ⚠️ 3-7. Shrinking Guest List\n",
    "You just found out that your new dinner table won’t arrive in time for the dinner, and you have space for only two guests.\n",
    "\n",
    "- Start with your program from Exercise 3-6. Add a new line that prints a\n",
    "message saying that you can invite only two people for dinner.\n",
    "- Use pop() to remove guests from your list one at a time until only two\n",
    "names remain in your list. Each time you pop a name from your list, print\n",
    "a message to that person letting them know you’re sorry you can’t invite\n",
    "them to dinner.\n",
    "- Print a message to each of the two people still on your list, letting them\n",
    "know they’re still invited.\n",
    "- Use del to remove the last two names from your list, so you have an empty\n",
    "list. Print your list to make sure you actually have an empty list at the end\n",
    "of your program."
   ],
   "metadata": {}
  },
  {
   "cell_type": "code",
   "execution_count": 67,
   "source": [
    "# Local variables\n",
    "guests = [\"Michael\",\"Tiger\", \"Roger\"]\n",
    "helloMessage = \"Hello \"\n",
    "inviteMessage = \", would you like to have dinner with us next tuesday?\"\n",
    "\n",
    "# Print guest list\n",
    "print(helloMessage + guests[0] + inviteMessage)\n",
    "print(helloMessage + guests[1] + inviteMessage)\n",
    "print(helloMessage + guests[2] + inviteMessage)\n",
    "\n",
    "print(\"\\nOh wait, I just found a bigger table, let me invite 3 more people ...\\n\")\n",
    "\n",
    "# Add 3 new guests\n",
    "guests.insert(0, \"Tom\")\n",
    "guests.insert(2, \"Jane\")\n",
    "guests.append(\"Diana\")\n",
    "\n",
    "# Print guest list again\n",
    "print(helloMessage + guests[0] + inviteMessage)\n",
    "print(helloMessage + guests[1] + inviteMessage)\n",
    "print(helloMessage + guests[2] + inviteMessage)\n",
    "print(helloMessage + guests[3] + inviteMessage)\n",
    "print(helloMessage + guests[4] + inviteMessage)\n",
    "print(helloMessage + guests[5] + inviteMessage)\n",
    "\n",
    "print(\"\\nOh no, I just found out the table won't be ready and I can only invite 2 people ...\\n\")\n",
    "\n",
    "# Pop some of the guests in the list\n",
    "print(\"Sorry \" + guests.pop() + \" I will invite you some other time\")\n",
    "print(\"Sorry \" + guests.pop() + \" I will invite you some other time\")\n",
    "print(\"Sorry \" + guests.pop() + \" I will invite you some other time\")\n",
    "print(\"Sorry \" + guests.pop() + \" I will invite you some other time\")\n",
    "\n",
    "print(\"\\n\")\n",
    "print(guests[0] + \" you are still invited, can you make it?\")\n",
    "print(guests[1] + \" you are still invited, can you make it?\")\n",
    "\n",
    "# Delete the 2 remaining guests and check if list is empty\n",
    "del guests[1]\n",
    "del guests[0]\n",
    "\n",
    "print(guests)\n"
   ],
   "outputs": [
    {
     "output_type": "stream",
     "name": "stdout",
     "text": [
      "Hello Michael, would you like to have dinner with us next tuesday?\n",
      "Hello Tiger, would you like to have dinner with us next tuesday?\n",
      "Hello Roger, would you like to have dinner with us next tuesday?\n",
      "\n",
      "Oh wait, I just found a bigger table, let me invite 3 more people ...\n",
      "\n",
      "Hello Tom, would you like to have dinner with us next tuesday?\n",
      "Hello Michael, would you like to have dinner with us next tuesday?\n",
      "Hello Jane, would you like to have dinner with us next tuesday?\n",
      "Hello Tiger, would you like to have dinner with us next tuesday?\n",
      "Hello Roger, would you like to have dinner with us next tuesday?\n",
      "Hello Diana, would you like to have dinner with us next tuesday?\n",
      "\n",
      "Oh no, I just found out the table won't be ready and I can only invite 2 people ...\n",
      "\n",
      "Sorry Diana I will invite you some other time\n",
      "Sorry Roger I will invite you some other time\n",
      "Sorry Tiger I will invite you some other time\n",
      "Sorry Jane I will invite you some other time\n",
      "\n",
      "\n",
      "Tom you are still invited, can you make it?\n",
      "Michael you are still invited, can you make it?\n",
      "[]\n"
     ]
    }
   ],
   "metadata": {}
  },
  {
   "cell_type": "markdown",
   "source": [
    "## ⚠️ 3-8. Seeing the World\n",
    "Think of at least five places in the world you’d like to visit.\n",
    "\n",
    "- Store the locations in a list. Make sure the list is not in alphabetical order.\n",
    "- Print your list in its original order. Don’t worry about printing the list neatly, just print it as a raw Python list.\n",
    "- Use sorted() to print your list in alphabetical order without modifying the actual list.\n",
    "- Show that your list is still in its original order by printing it.\n",
    "- Use sorted() to print your list in reverse alphabetical order without changing the order of the original list.\n",
    "- Show that your list is still in its original order by printing it again.\n",
    "- Use reverse() to change the order of your list. Print the list to show that its order has changed.\n",
    "- Use reverse() to change the order of your list again. Print the list to show it’s back to its original order.\n",
    "- Use sort() to change your list so it’s stored in alphabetical order. Print the list to show that its order has been changed.\n",
    "- Use sort() to change your list so it’s stored in reverse alphabetical order. Print the list to show that its order has changed."
   ],
   "metadata": {}
  },
  {
   "cell_type": "markdown",
   "source": [
    "## ⚠️ 3-9. Dinner Guests\n",
    "Working with one of the programs from Exercises 3-4 through 3-7 (page 46), use len() to print a message indicating the number of people you are inviting to dinner."
   ],
   "metadata": {}
  },
  {
   "cell_type": "markdown",
   "source": [
    "## ⚠️ 3-10. Every Function\n",
    "Think of something you could store in a list. For example, you could make a list of mountains, rivers, countries, cities, languages, or anything else you’d like. Write a program that creates a list containing these items and then uses each function introduced in this chapter at least once."
   ],
   "metadata": {}
  },
  {
   "cell_type": "markdown",
   "source": [
    "## ⚠️ 3-11. Intentional Error\n",
    "If you haven’t received an index error in one of your programs yet, try to make one happen. Change an index in one of your programs to produce an index error. Make sure you correct the error before closing the program."
   ],
   "metadata": {}
  }
 ],
 "metadata": {
  "orig_nbformat": 4,
  "language_info": {
   "name": "python",
   "version": "3.8.10",
   "mimetype": "text/x-python",
   "codemirror_mode": {
    "name": "ipython",
    "version": 3
   },
   "pygments_lexer": "ipython3",
   "nbconvert_exporter": "python",
   "file_extension": ".py"
  },
  "kernelspec": {
   "name": "python3",
   "display_name": "Python 3.8.10 64-bit"
  },
  "interpreter": {
   "hash": "916dbcbb3f70747c44a77c7bcd40155683ae19c65e1c03b4aa3499c5328201f1"
  }
 },
 "nbformat": 4,
 "nbformat_minor": 2
}