{
 "cells": [
  {
   "cell_type": "markdown",
   "metadata": {},
   "source": [
    "# Python Crash Course\n",
    "A Hands-on, Project-based Introduction to Programming by Eric Matthes\n",
    "\n",
    "# Chapter 7 - User Input and while loops"
   ]
  },
  {
   "cell_type": "markdown",
   "metadata": {},
   "source": [
    "## ⚠️ 7-1. Rental Car\n",
    "Write a program that asks the user what kind of rental car they would like. Print a message about that car, such as \"Let me see if i can find you a Subaru.\""
   ]
  },
  {
   "cell_type": "code",
   "execution_count": 3,
   "metadata": {},
   "outputs": [
    {
     "name": "stdout",
     "output_type": "stream",
     "text": [
      "Let me see if I can find you a subaru\n"
     ]
    }
   ],
   "source": [
    "carType = input(\"What kind of car would you like to rent? \")\n",
    "\n",
    "print(\"Let me see if I can find you a \" + carType)"
   ]
  },
  {
   "cell_type": "markdown",
   "metadata": {},
   "source": [
    "## ⚠️ 7-2. Restaurant Seating\n",
    "Write a program that asks the user how many people are in their dinner group. If the answer is more than eight, print a message saying they’ll have to wait for a table. Otherwise, report that their table is ready."
   ]
  },
  {
   "cell_type": "code",
   "execution_count": 4,
   "metadata": {},
   "outputs": [
    {
     "name": "stdout",
     "output_type": "stream",
     "text": [
      "Table is ready. This way please.\n"
     ]
    }
   ],
   "source": [
    "requestInput = \"Table for how many? \"\n",
    "groupNumber = input(requestInput)\n",
    "\n",
    "if (int(groupNumber) > 8):\n",
    "    print(\"Table is being prepared.\")\n",
    "else:\n",
    "    print(\"Table is ready. This way please.\")"
   ]
  },
  {
   "cell_type": "markdown",
   "metadata": {},
   "source": [
    "## ⚠️ 7-3. Multiple of Ten\n",
    "Ask the user for a number, and then report whether the number is a multiple of 10 or not."
   ]
  },
  {
   "cell_type": "code",
   "execution_count": 5,
   "metadata": {},
   "outputs": [
    {
     "name": "stdout",
     "output_type": "stream",
     "text": [
      "Number 20 is a multiple of 10.\n"
     ]
    }
   ],
   "source": [
    "number = input(\"number? \")\n",
    "\n",
    "if (int(number) % 10 == 0):\n",
    "    print(\"Number \" + number + \" is a multiple of 10.\")\n",
    "else:\n",
    "    print(\"Number \" + number + \" is NOT a multiple of 10.\")"
   ]
  },
  {
   "cell_type": "markdown",
   "metadata": {},
   "source": [
    "## ⚠️ 7-4. Pizza Toppings\n",
    "Write a loop that prompts the user to enter a series of pizza toppings until they enter a 'quit' value. As they enter each topping, print a message saying you’ll add that topping to their pizza."
   ]
  },
  {
   "cell_type": "code",
   "execution_count": 6,
   "metadata": {},
   "outputs": [
    {
     "name": "stdout",
     "output_type": "stream",
     "text": [
      "pepperoni. Got it.\n",
      "Thank you. Your order will be ready in a few minutes.\n"
     ]
    }
   ],
   "source": [
    "while (True):\n",
    "    additionalToppingRequest = \"Any additional ingredient you would like? \"\n",
    "    additionalToppingRequest += \"\\n(Type 'quit' to exit)\"\n",
    "    pizzaTopping = input(additionalToppingRequest)\n",
    "\n",
    "    if (pizzaTopping != \"quit\"):\n",
    "        print(pizzaTopping + \". Got it.\")\n",
    "    else:\n",
    "        print(\"Thank you. Your order will be ready in a few minutes.\")\n",
    "        break"
   ]
  },
  {
   "cell_type": "markdown",
   "metadata": {},
   "source": [
    "## ⚠️ 7-5. Movie Tickets\n",
    "A movie theater charges different ticket prices depending on a person’s age. If a person is under the age of 3, the ticket is free; if they are between 3 and 12, the ticket is $10; and if they are over age 12, the ticket is\n",
    "$15. Write a loop in which you ask users their age, and then tell them the cost of their movie ticket."
   ]
  },
  {
   "cell_type": "code",
   "execution_count": 8,
   "metadata": {},
   "outputs": [
    {
     "name": "stdout",
     "output_type": "stream",
     "text": [
      "Ticket is $10.\n",
      "Ticket is $15.\n"
     ]
    }
   ],
   "source": [
    "while (True):\n",
    "    ageRequest = \"Person age? \"\n",
    "    ageRequest += \"\\n(Type 'quit' to exit)\"\n",
    "    age = input(ageRequest)\n",
    "\n",
    "    if (age == \"quit\"):\n",
    "        break\n",
    "    elif (int(age) < 3):\n",
    "        print(\"Ticket is free.\")\n",
    "    elif ( (int(age) >= 3) and (int(age) <= 12) ):\n",
    "        print(\"Ticket is $10.\")\n",
    "    else:\n",
    "        print(\"Ticket is $15.\")\n"
   ]
  },
  {
   "cell_type": "markdown",
   "metadata": {},
   "source": [
    "## ⚠️ 7-6. Three Exits\n",
    "Write different versions of either Exercise 7-4 or Exercise 7-5 that do each of the following at least once:\n",
    "\n",
    "- Use a conditional test in the while statement to stop the loop.\n",
    "- Use an active variable to control how long the loop runs.\n",
    "- Use a break statement to exit the loop when the user enters a 'quit' value."
   ]
  },
  {
   "cell_type": "code",
   "execution_count": 9,
   "metadata": {},
   "outputs": [
    {
     "name": "stdout",
     "output_type": "stream",
     "text": [
      "pepperoni. Got it.\n",
      "Thank you. Your order will be ready in a few minutes.\n"
     ]
    }
   ],
   "source": [
    "loopEnable = True\n",
    "\n",
    "while (loopEnable):\n",
    "    additionalToppingRequest = \"Any additional ingredient you would like? \"\n",
    "    additionalToppingRequest += \"\\n(Type 'quit' to exit)\"\n",
    "    pizzaTopping = input(additionalToppingRequest)\n",
    "\n",
    "    if (pizzaTopping != \"quit\"):\n",
    "        print(pizzaTopping + \". Got it.\")\n",
    "    else:\n",
    "        print(\"Thank you. Your order will be ready in a few minutes.\")\n",
    "        loopEnable = False"
   ]
  },
  {
   "cell_type": "markdown",
   "metadata": {},
   "source": [
    "## ⚠️ 7-7. Infinity\n",
    "Write a loop that never ends, and run it. (To end the loop, press Ctrl+C or close the window displaying the output.)"
   ]
  },
  {
   "cell_type": "code",
   "execution_count": 10,
   "metadata": {},
   "outputs": [
    {
     "name": "stdout",
     "output_type": "stream",
     "text": [
      "pepperoni. Got it.\n",
      "Thank you. Your order will be ready in a few minutes.\n"
     ]
    }
   ],
   "source": [
    "loopEnable = True\n",
    "\n",
    "while (loopEnable):\n",
    "    additionalToppingRequest = \"Any additional ingredient you would like? \"\n",
    "    additionalToppingRequest += \"\\n(Type 'quit' to exit)\"\n",
    "    pizzaTopping = input(additionalToppingRequest)\n",
    "\n",
    "    if (pizzaTopping != \"quit\"):\n",
    "        print(pizzaTopping + \". Got it.\")\n",
    "    else:\n",
    "        print(\"Thank you. Your order will be ready in a few minutes.\")\n",
    "        \n",
    "        # Comment this line to create an infinite loop\n",
    "        # press Ctrl+C to stop the script\n",
    "        loopEnable = False"
   ]
  },
  {
   "cell_type": "markdown",
   "metadata": {},
   "source": [
    "## ⚠️ 7-8. Deli\n",
    "Make a list called sandwich_orders and fill it with the names of various sandwiches. Then make an empty list called finished_sandwiches . Loop through the list of sandwich orders and print a message for each order, such\n",
    "as I made your tuna sandwich. As each sandwich is made, move it to the list of finished sandwiches. After all the sandwiches have been made, print a message listing each sandwich that was made."
   ]
  },
  {
   "cell_type": "code",
   "execution_count": 11,
   "metadata": {},
   "outputs": [
    {
     "name": "stdout",
     "output_type": "stream",
     "text": [
      "Preparing a Chicken Teriyaki sandwich\n",
      "Preparing a Italian sandwich\n",
      "Preparing a Pastrami sandwich\n",
      "Preparing a Cheese sandwich\n",
      "Ready for pick up! Chicken Teriyaki sandwich!\n",
      "Ready for pick up! Italian sandwich!\n",
      "Ready for pick up! Pastrami sandwich!\n",
      "Ready for pick up! Cheese sandwich!\n"
     ]
    }
   ],
   "source": [
    "sandwichOrders = [\"Cheese\", \"Pastrami\", \"Italian\", \"Chicken Teriyaki\"]\n",
    "finishedSandwiches = []\n",
    "\n",
    "while sandwichOrders:\n",
    "    currentSandwich = sandwichOrders.pop()\n",
    "    print(\"Preparing a \" + currentSandwich + \" sandwich\")\n",
    "    finishedSandwiches.append(currentSandwich)\n",
    "\n",
    "for sandwich in finishedSandwiches:\n",
    "    print(\"Ready for pick up! \" + sandwich + \" sandwich!\")"
   ]
  },
  {
   "cell_type": "markdown",
   "metadata": {},
   "source": [
    "## ⚠️ 7-9. No Pastrami\n",
    "Using the list sandwich_orders from Exercise 7-8, make sure the sandwich 'pastrami' appears in the list at least three times. Add code near the beginning of your program to print a message saying the deli has run out of pastrami, and then use a while loop to remove all occurrences of 'pastrami' from sandwich_orders . Make sure no pastrami sandwiches end up in finished_sandwiches."
   ]
  },
  {
   "cell_type": "code",
   "execution_count": 12,
   "metadata": {},
   "outputs": [
    {
     "name": "stdout",
     "output_type": "stream",
     "text": [
      "Oh no! We ran out of ingredients, cannot prepare a Pastrami sandwich\n",
      "Oh no! We ran out of ingredients, cannot prepare a Pastrami sandwich\n",
      "Preparing a Chicken Teriyaki sandwich\n",
      "Preparing a Italian sandwich\n",
      "Oh no! We ran out of ingredients, cannot prepare a Pastrami sandwich\n",
      "Preparing a Cheese sandwich\n",
      "Ready for pick up! Chicken Teriyaki sandwich!\n",
      "Ready for pick up! Italian sandwich!\n",
      "Ready for pick up! Cheese sandwich!\n"
     ]
    }
   ],
   "source": [
    "sandwichOrders = [\"Cheese\", \"Pastrami\", \"Italian\", \"Chicken Teriyaki\", \"Pastrami\", \"Pastrami\"]\n",
    "finishedSandwiches = []\n",
    "\n",
    "while sandwichOrders:\n",
    "    currentSandwich = sandwichOrders.pop()\n",
    "    if (currentSandwich == \"Pastrami\"):\n",
    "        print(\"Oh no! We ran out of ingredients, cannot prepare a \" + currentSandwich + \" sandwich\")\n",
    "    else:\n",
    "        print(\"Preparing a \" + currentSandwich + \" sandwich\")\n",
    "        finishedSandwiches.append(currentSandwich)\n",
    "\n",
    "for sandwich in finishedSandwiches:\n",
    "    print(\"Ready for pick up! \" + sandwich + \" sandwich!\")"
   ]
  },
  {
   "cell_type": "markdown",
   "metadata": {},
   "source": [
    "## ⚠️ 7-10. Dream Vacation\n",
    "Write a program that polls users about their dream vacation. Write a prompt similar to If you could visit one place in the world, where would you go? Include a block of code that prints the results of the poll."
   ]
  },
  {
   "cell_type": "code",
   "execution_count": 13,
   "metadata": {},
   "outputs": [
    {
     "name": "stdout",
     "output_type": "stream",
     "text": [
      "Person #0 = japan\n"
     ]
    }
   ],
   "source": [
    "dreamVacation = {}\n",
    "answerCounter = 0\n",
    "\n",
    "while True:\n",
    "    question = \"If you could visit one place in the world, where would you go?\"\n",
    "    answer = input(question)\n",
    "    dreamVacation[answerCounter] = answer\n",
    "    answerCounter += 1\n",
    "\n",
    "    question = \"Would anyone else like to take the poll? press enter to continue, type 'No' to exit.\"\n",
    "    answer = input(question)\n",
    "    if (answer == \"No\"):\n",
    "        break\n",
    "    else:\n",
    "        continue\n",
    "\n",
    "for pollNumber,Destination in dreamVacation.items():\n",
    "    print(\"Person #\" + str(pollNumber) + \" = \" + str(Destination))"
   ]
  },
  {
   "cell_type": "markdown",
   "metadata": {},
   "source": [
    "## ⚠️ Extra. Test or try what you learned\n",
    "Test what you learned or you are trying to remember after not programming in python for a while."
   ]
  },
  {
   "cell_type": "code",
   "execution_count": null,
   "metadata": {},
   "outputs": [],
   "source": [
    "# Declare empty dictionary\n",
    "dreamVacation = {}\n",
    "answerCounter = 0\n",
    "\n",
    "# While loop syntax\n",
    "while True:\n",
    "    # This is how you request user input\n",
    "    question = \"If you could visit one place in the world, where would you go?\"\n",
    "    answer = input(question)\n",
    "\n",
    "    # Dictionary index assigment (it creates a new entry in the dictionary or overwrites an existing one)\n",
    "    dreamVacation[answerCounter] = answer\n",
    "    answerCounter += 1\n",
    "\n",
    "    question = \"Would anyone else like to take the poll? press enter to continue, type 'No' to exit.\"\n",
    "    answer = input(question)\n",
    "    if (answer == \"No\"):\n",
    "        # both 'break' and 'continue' work in all loop types in Python\n",
    "        break\n",
    "    else:\n",
    "        continue\n",
    "\n",
    "# Print the key,value pairs one by one\n",
    "for pollNumber,Destination in dreamVacation.items():\n",
    "    print(\"Person #\" + str(pollNumber) + \" = \" + str(Destination))"
   ]
  }
 ],
 "metadata": {
  "interpreter": {
   "hash": "b89b5cfaba6639976dc87ff2fec6d58faec662063367e2c229c520fe71072417"
  },
  "kernelspec": {
   "display_name": "Python 3.10.0 64-bit",
   "name": "python3"
  },
  "language_info": {
   "codemirror_mode": {
    "name": "ipython",
    "version": 3
   },
   "file_extension": ".py",
   "mimetype": "text/x-python",
   "name": "python",
   "nbconvert_exporter": "python",
   "pygments_lexer": "ipython3",
   "version": "3.10.0"
  },
  "orig_nbformat": 4
 },
 "nbformat": 4,
 "nbformat_minor": 2
}
