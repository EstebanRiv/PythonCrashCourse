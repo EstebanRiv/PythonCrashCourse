{
 "cells": [
  {
   "cell_type": "markdown",
   "metadata": {},
   "source": [
    "# Python Crash Course\n",
    "A Hands-on, Project-based Introduction to Programming by Eric Matthes"
   ]
  },
  {
   "cell_type": "markdown",
   "metadata": {},
   "source": [
    "# Chapter 4 - Working with Lists"
   ]
  },
  {
   "cell_type": "markdown",
   "metadata": {},
   "source": [
    "## ⚠️ 4-1. Pizzas\n",
    "Think of at least three kinds of your favorite pizza. Store these pizza names in a list, and then use a for loop to print the name of each pizza.\n",
    "\n",
    "- Modify your for loop to print a sentence using the name of the pizza instead of printing just the name of the pizza. For each pizza you should have one line of output containing a simple statement like *I like pepperoni pizza*.\n",
    "\n",
    "- Add a line at the end of your program, outside the for loop, that states how much you like pizza. The output should consist of three or more lines about the kinds of pizza you like and then an additional sentence, such as I really love pizza!"
   ]
  },
  {
   "cell_type": "code",
   "execution_count": 41,
   "metadata": {},
   "outputs": [
    {
     "name": "stdout",
     "output_type": "stream",
     "text": [
      "I like Pepperoni pizza!\n",
      "I like Meat Lovers pizza!\n",
      "I like Vegetarian pizza!\n",
      "(... maybe I should go ahead and order some tonight)\n"
     ]
    }
   ],
   "source": [
    "pizzaList = [\"pepperoni\", \"meat lovers\", \"vegetarian\"]\n",
    "\n",
    "for pizza in pizzaList:\n",
    "    print(\"I like \" + pizza.title() + \" pizza!\")\n",
    "\n",
    "print(\"(... maybe I should go ahead and order some tonight)\")"
   ]
  },
  {
   "cell_type": "markdown",
   "metadata": {},
   "source": [
    "## ⚠️ 4-2. Animals\n",
    "Think of at least three different animals that have a common characteristic. Store the names of these animals in a list, and then use a for loop to print out the name of each animal.\n",
    "\n",
    "- Modify your program to print a statement about each animal, such as *A dog would make a great pet*.\n",
    "\n",
    "- Add a line at the end of your program stating what these animals have in common. You could print a sentence such as *Any of these animals would make a great pet!*"
   ]
  },
  {
   "cell_type": "code",
   "execution_count": 42,
   "metadata": {},
   "outputs": [
    {
     "name": "stdout",
     "output_type": "stream",
     "text": [
      "A Cow would make a great farm animal!\n",
      "A Pig would make a great farm animal!\n",
      "A Chicken would make a great farm animal!\n",
      "Maybe I should go and ask a real farmer about them.\n"
     ]
    }
   ],
   "source": [
    "animalList = [\"cow\", \"pig\", \"chicken\"]\n",
    "\n",
    "for animal in animalList:\n",
    "    print(\"A \" + animal.title() + \" would make a great farm animal!\")\n",
    "\n",
    "print (\"Maybe I should go and ask a real farmer about them.\")"
   ]
  },
  {
   "cell_type": "markdown",
   "metadata": {},
   "source": [
    "## ⚠️ 4-3. Counting to Twenty\n",
    "Use a for loop to print the numbers from 1 to 20, inclusive."
   ]
  },
  {
   "cell_type": "code",
   "execution_count": 43,
   "metadata": {},
   "outputs": [
    {
     "name": "stdout",
     "output_type": "stream",
     "text": [
      "[1, 2, 3, 4, 5, 6, 7, 8, 9, 10, 11, 12, 13, 14, 15, 16, 17, 18, 19, 20]\n"
     ]
    }
   ],
   "source": [
    "numberList = list(range(1,21))\n",
    "print(numberList)"
   ]
  },
  {
   "cell_type": "markdown",
   "metadata": {},
   "source": [
    "## ⚠️ 4-4. One Million\n",
    "Make a list of the numbers from one to one million, and then use a for loop to print the numbers. (If the output is taking too long, stop it by pressing ctrl+C or by closing the output window.)"
   ]
  },
  {
   "cell_type": "code",
   "execution_count": 44,
   "metadata": {},
   "outputs": [
    {
     "name": "stdout",
     "output_type": "stream",
     "text": [
      "[1, 2, 3, 4, 5, 6, 7, 8, 9, 10, 11, 12, 13, 14, 15, 16, 17, 18, 19, 20, 21, 22, 23, 24, 25, 26, 27, 28, 29, 30, 31, 32, 33, 34, 35, 36, 37, 38, 39, 40, 41, 42, 43, 44, 45, 46, 47, 48, 49, 50, 51, 52, 53, 54, 55, 56, 57, 58, 59, 60, 61, 62, 63, 64, 65, 66, 67, 68, 69, 70, 71, 72, 73, 74, 75, 76, 77, 78, 79, 80, 81, 82, 83, 84, 85, 86, 87, 88, 89, 90, 91, 92, 93, 94, 95, 96, 97, 98, 99, 100, 101, 102, 103, 104, 105, 106, 107, 108, 109, 110, 111, 112, 113, 114, 115, 116, 117, 118, 119, 120, 121, 122, 123, 124, 125, 126, 127, 128, 129, 130, 131, 132, 133, 134, 135, 136, 137, 138, 139, 140, 141, 142, 143, 144, 145, 146, 147, 148, 149, 150, 151, 152, 153, 154, 155, 156, 157, 158, 159, 160, 161, 162, 163, 164, 165, 166, 167, 168, 169, 170, 171, 172, 173, 174, 175, 176, 177, 178, 179, 180, 181, 182, 183, 184, 185, 186, 187, 188, 189, 190, 191, 192, 193, 194, 195, 196, 197, 198, 199, 200]\n"
     ]
    }
   ],
   "source": [
    "numberList = list(range(1,201))\n",
    "print(numberList)"
   ]
  },
  {
   "cell_type": "markdown",
   "metadata": {},
   "source": [
    "## ⚠️ 4-5. Summing a Million\n",
    "Make a list of the numbers from one to one million, and then use min() and max() to make sure your list actually starts at one and ends at one million. Also, use the sum() function to see how quickly Python can add a million numbers."
   ]
  },
  {
   "cell_type": "code",
   "execution_count": 45,
   "metadata": {},
   "outputs": [
    {
     "name": "stdout",
     "output_type": "stream",
     "text": [
      "Minimum = 0\n",
      "Maximum = 10000000\n",
      "Sum = 50000005000000\n"
     ]
    }
   ],
   "source": [
    "numberList = list(range(0,10000001))\n",
    "print(\"Minimum = \" + str(min(numberList)))\n",
    "print(\"Maximum = \" + str(max(numberList)))\n",
    "print(\"Sum = \" + str(sum(numberList)))"
   ]
  },
  {
   "cell_type": "markdown",
   "metadata": {},
   "source": [
    "## ⚠️ 4-6. Odd Numbers\n",
    "Use the third argument of the range() function to make a list of the odd numbers from 1 to 20. Use a for loop to print each number."
   ]
  },
  {
   "cell_type": "code",
   "execution_count": 46,
   "metadata": {},
   "outputs": [
    {
     "name": "stdout",
     "output_type": "stream",
     "text": [
      "[1, 3, 5, 7, 9, 11, 13, 15, 17, 19]\n"
     ]
    }
   ],
   "source": [
    "numberList = list(range(1,21,2))\n",
    "print(numberList)"
   ]
  },
  {
   "cell_type": "markdown",
   "metadata": {},
   "source": [
    "## ⚠️ 4-7. Threes\n",
    "Make a list of the multiples of 3 from 3 to 30. Use a for loop to print the numbers in your list."
   ]
  },
  {
   "cell_type": "code",
   "execution_count": 47,
   "metadata": {},
   "outputs": [
    {
     "name": "stdout",
     "output_type": "stream",
     "text": [
      "[3, 6, 9, 12, 15, 18, 21, 24, 27, 30]\n"
     ]
    }
   ],
   "source": [
    "numberList = list(range(3,31,3))\n",
    "print(numberList)"
   ]
  },
  {
   "cell_type": "markdown",
   "metadata": {},
   "source": [
    "## ⚠️ 4-8. Cubes\n",
    "A number raised to the third power is called a cube. For example, the cube of 2 is written as 2**3 in Python. Make a list of the first 10 cubes (that is, the cube of each integer from 1 through 10), and use a for loop to print out the value of each cube."
   ]
  },
  {
   "cell_type": "code",
   "execution_count": 48,
   "metadata": {},
   "outputs": [
    {
     "name": "stdout",
     "output_type": "stream",
     "text": [
      "1\n",
      "8\n",
      "27\n",
      "64\n",
      "125\n",
      "216\n",
      "343\n",
      "512\n",
      "729\n",
      "1000\n"
     ]
    }
   ],
   "source": [
    "cubesList = []\n",
    "\n",
    "for number in range(1,11):\n",
    "    cube = number**3\n",
    "    cubesList.append(cube)\n",
    "    print(cube)"
   ]
  },
  {
   "cell_type": "markdown",
   "metadata": {},
   "source": [
    "## ⚠️ 4-9. Cube Comprehension\n",
    "Use a list comprehension to generate a list of the first 10 cubes."
   ]
  },
  {
   "cell_type": "code",
   "execution_count": 49,
   "metadata": {},
   "outputs": [
    {
     "name": "stdout",
     "output_type": "stream",
     "text": [
      "[1, 8, 27, 64, 125, 216, 343, 512, 729, 1000]\n"
     ]
    }
   ],
   "source": [
    "cubesList = [number**3 for number in range(1,11)]\n",
    "print(cubesList)"
   ]
  },
  {
   "cell_type": "markdown",
   "metadata": {},
   "source": [
    "## ⚠️ 4-10. Slices\n",
    "Using one of the programs you wrote in this chapter, add several lines to the end of the program that do the following:\n",
    "\n",
    "- Print the message, The first three items in the list are:. Then use a slice to print the first three items from that program’s list.\n",
    "\n",
    "- Print the message, Three items from the middle of the list are:. Use a slice to print three items from the middle of the list.\n",
    "\n",
    "- Print the message, The last three items in the list are:. Use a slice to print the last three items in the list."
   ]
  },
  {
   "cell_type": "code",
   "execution_count": 50,
   "metadata": {},
   "outputs": [
    {
     "name": "stdout",
     "output_type": "stream",
     "text": [
      "First 3 items in the list:\n",
      "['USA', 'Mexico', 'Guatemala']\n",
      "Middle 3 items in the list:\n",
      "['Honduras', 'El Salvador', 'Nicaragua']\n",
      "Last 3 items in the list:\n",
      "['Nicaragua', 'Costa Rica', 'Panama']\n"
     ]
    }
   ],
   "source": [
    "countryList = [\"USA\",\"Mexico\",\"Guatemala\",\"Honduras\",\"El Salvador\",\"Nicaragua\",\"Costa Rica\",\"Panama\"]\n",
    "\n",
    "print(\"First 3 items in the list:\")\n",
    "print(countryList[:3])\n",
    "\n",
    "print(\"Middle 3 items in the list:\")\n",
    "print(countryList[3:6])\n",
    "\n",
    "print(\"Last 3 items in the list:\")\n",
    "print(countryList[-3:])"
   ]
  },
  {
   "cell_type": "markdown",
   "metadata": {},
   "source": [
    "## ⚠️ 4-11. My Pizzas, Your Pizzas\n",
    "Start with your program from Exercise 4-1 (page 60). Make a copy of the list of pizzas, and call it friend_pizzas. Then, do the following:\n",
    "\n",
    "- Add a new pizza to the original list.\n",
    "\n",
    "- Add a different pizza to the list friend_pizzas.\n",
    "\n",
    "- Prove that you have two separate lists. Print the message, *My favorite pizzas are:*, and then use a for loop to print the first list. Print the message, *My friend’s favorite pizzas are:*, and then use a for loop to print the second list. Make sure each new pizza is stored in the appropriate list."
   ]
  },
  {
   "cell_type": "code",
   "execution_count": 51,
   "metadata": {},
   "outputs": [
    {
     "name": "stdout",
     "output_type": "stream",
     "text": [
      "My favorite pizzas are:\n",
      "['pepperoni', 'meat lovers', 'vegetarian', 'Margherita']\n",
      "My friend favorite pizzas are:\n",
      "['pepperoni', 'meat lovers', 'vegetarian', 'Hawaiian']\n"
     ]
    }
   ],
   "source": [
    "myPizzaList = [\"pepperoni\", \"meat lovers\", \"vegetarian\"]\n",
    "friendPizzaList = myPizzaList[:]\n",
    "\n",
    "myPizzaList.append(\"Margherita\")\n",
    "friendPizzaList.append(\"Hawaiian\")\n",
    "\n",
    "print(\"My favorite pizzas are:\")\n",
    "print(myPizzaList)\n",
    "print(\"My friend favorite pizzas are:\")\n",
    "print(friendPizzaList)"
   ]
  },
  {
   "cell_type": "markdown",
   "metadata": {},
   "source": [
    "## ⚠️ 4-12. More Loops\n",
    "All versions of foods.py in this section have avoided using for loops when printing to save space. Choose a version of foods.py, and write two for loops to print each list of foods."
   ]
  },
  {
   "cell_type": "code",
   "execution_count": 52,
   "metadata": {},
   "outputs": [
    {
     "name": "stdout",
     "output_type": "stream",
     "text": [
      "My favorite pizzas are:\n",
      "\t- pepperoni\n",
      "\t- meat lovers\n",
      "\t- vegetarian\n",
      "\t- Margherita\n",
      "My friend favorite pizzas are:\n",
      "\t- pepperoni\n",
      "\t- meat lovers\n",
      "\t- vegetarian\n",
      "\t- Hawaiian\n"
     ]
    }
   ],
   "source": [
    "myPizzaList = [\"pepperoni\", \"meat lovers\", \"vegetarian\"]\n",
    "friendPizzaList = myPizzaList[:]\n",
    "\n",
    "myPizzaList.append(\"Margherita\")\n",
    "friendPizzaList.append(\"Hawaiian\")\n",
    "\n",
    "print(\"My favorite pizzas are:\")\n",
    "for pizza in myPizzaList:\n",
    "    print(\"\\t- \" + pizza)\n",
    "\n",
    "print(\"My friend favorite pizzas are:\")\n",
    "for pizza in friendPizzaList:\n",
    "    print(\"\\t- \" + pizza)"
   ]
  },
  {
   "cell_type": "markdown",
   "metadata": {},
   "source": [
    "## ⚠️ 4-13. Buffet\n",
    "A buffet-style restaurant offers only five basic foods. Think of five simple foods, and store them in a tuple.\n",
    "\n",
    "- Use a for loop to print each food the restaurant offers.\n",
    "\n",
    "- Try to modify one of the items, and make sure that Python rejects the change.\n",
    "\n",
    "- The restaurant changes its menu, replacing two of the items with different foods. Add a block of code that rewrites the tuple, and then use a for loop to print each of the items on the revised menu."
   ]
  },
  {
   "cell_type": "code",
   "execution_count": 53,
   "metadata": {},
   "outputs": [
    {
     "name": "stdout",
     "output_type": "stream",
     "text": [
      "('pizza', 'salmon', 'fried fish', 'fried rice', 'ice cream')\n",
      "Menu:\n",
      "\t- pizza\n",
      "\t- salmon\n",
      "\t- fried fish\n",
      "\t- fried rice\n",
      "\t- ice cream\n",
      "Revised Menu:\n",
      "\t- hamburger\n",
      "\t- salmon\n",
      "\t- fried fish\n",
      "\t- fried rice\n",
      "\t- flan\n"
     ]
    }
   ],
   "source": [
    "menu = (\"pizza\",\"salmon\",\"fried fish\",\"fried rice\",\"ice cream\")\n",
    "\n",
    "print(menu)\n",
    "\n",
    "print(\"Menu:\")\n",
    "for menuEntry in menu:\n",
    "    print(\"\\t- \" + menuEntry)\n",
    "\n",
    "# Update 1 menu item\n",
    "#menu[0] = \"hamburger\"\n",
    "\n",
    "menu = (\"hamburger\",\"salmon\",\"fried fish\",\"fried rice\",\"flan\")\n",
    "\n",
    "print(\"Revised Menu:\")\n",
    "for menuEntry in menu:\n",
    "    print(\"\\t- \" + menuEntry)"
   ]
  },
  {
   "cell_type": "markdown",
   "metadata": {},
   "source": [
    "## ⚠️ 4-14. PEP 8\n",
    "Look through the original PEP 8 style guide at https://python.org/dev/peps/pep-0008/. You won’t use much of it now, but it might be interesting to skim through it."
   ]
  },
  {
   "cell_type": "code",
   "execution_count": 54,
   "metadata": {},
   "outputs": [],
   "source": [
    "# Nothing to do here"
   ]
  },
  {
   "cell_type": "markdown",
   "metadata": {},
   "source": [
    "## ⚠️ 4-15. Code Review\n",
    "Choose three of the programs you’ve written in this chapter and modify each one to comply with PEP 8:\n",
    "\n",
    "- Use four spaces for each indentation level. Set your text editor to insert four spaces every time you press tab , if you haven’t already done so (see Appendix B for instructions on how to do this).\n",
    "\n",
    "- Use less than 80 characters on each line, and set your editor to show a vertical guideline at the 80th character position.\n",
    "\n",
    "- Don’t use blank lines excessively in your program files."
   ]
  },
  {
   "cell_type": "code",
   "execution_count": 55,
   "metadata": {},
   "outputs": [],
   "source": [
    "# Nothing todo here, previous snippets of code are fine"
   ]
  }
 ],
 "metadata": {
  "interpreter": {
   "hash": "916dbcbb3f70747c44a77c7bcd40155683ae19c65e1c03b4aa3499c5328201f1"
  },
  "kernelspec": {
   "display_name": "Python 3.8.10 64-bit",
   "name": "python3"
  },
  "language_info": {
   "codemirror_mode": {
    "name": "ipython",
    "version": 3
   },
   "file_extension": ".py",
   "mimetype": "text/x-python",
   "name": "python",
   "nbconvert_exporter": "python",
   "pygments_lexer": "ipython3",
   "version": "3.8.10"
  },
  "orig_nbformat": 4
 },
 "nbformat": 4,
 "nbformat_minor": 2
}
