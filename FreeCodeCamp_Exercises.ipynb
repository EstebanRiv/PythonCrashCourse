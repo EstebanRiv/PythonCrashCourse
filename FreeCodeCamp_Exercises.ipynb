{
 "cells": [
  {
   "cell_type": "markdown",
   "metadata": {},
   "source": [
    "# Free Code Camp\n",
    "https://www.freecodecamp.org/learn/scientific-computing-with-python/"
   ]
  },
  {
   "cell_type": "markdown",
   "metadata": {},
   "source": [
    "## ⚠️ Comparing and Sorting Tuples\n",
    "The function reads a file or text, creates a word (or letter) histogram, and then sorts the results and shows the first 10 entries"
   ]
  },
  {
   "cell_type": "code",
   "execution_count": 2,
   "metadata": {},
   "outputs": [
    {
     "name": "stdout",
     "output_type": "stream",
     "text": [
      "[(41, 'i'), (28, 'u'), (28, 'o'), (21, 'r'), (21, 'l'), (18, 's'), (18, 'd'), (16, 'm'), (11, 'p'), (1, 'I')]\n"
     ]
    }
   ],
   "source": [
    "# Read file of text\n",
    "#text = open('Filepath')\n",
    "text = \"Ipsum dolor sit amet, consectetur adipiscing elit, sed do eiusmod tempor incididunt ut labore et dolore magna aliqua. Ut enim ad minim veniam, quis nostrud exercitation ullamco laboris nisi ut aliquip ex ea commodo consequat. Duis aute irure dolor in reprehenderit in voluptate velit esse cillum dolore eu fugiat nulla pariatur. Excepteur sint occaecat cupidatat non proident, sunt in culpa qui officia deserunt mollit anim id est laborum.\"\n",
    "\n",
    "# Parse the text and save the word count in the dict\n",
    "unsortedHistogram = dict()\n",
    "for line in text:\n",
    "    words = line.split()\n",
    "    for word in words:\n",
    "        unsortedHistogram[word] = unsortedHistogram.get(word, 0) + 1\n",
    "\n",
    "# Sort the results\n",
    "unsortedHistogramList = list()\n",
    "for key,value in unsortedHistogram.items():\n",
    "    tempTuple = (value, key)\n",
    "    unsortedHistogramList.append(tempTuple)\n",
    "\n",
    "# Print the sorted histogram\n",
    "print(sorted(unsortedHistogramList[:10],reverse=True))"
   ]
  }
 ],
 "metadata": {
  "interpreter": {
   "hash": "31f2aee4e71d21fbe5cf8b01ff0e069b9275f58929596ceb00d14d90e3e16cd6"
  },
  "kernelspec": {
   "display_name": "Python 3.8.5 64-bit",
   "language": "python",
   "name": "python3"
  },
  "language_info": {
   "codemirror_mode": {
    "name": "ipython",
    "version": 3
   },
   "file_extension": ".py",
   "mimetype": "text/x-python",
   "name": "python",
   "nbconvert_exporter": "python",
   "pygments_lexer": "ipython3",
   "version": "3.8.10"
  },
  "orig_nbformat": 4
 },
 "nbformat": 4,
 "nbformat_minor": 2
}
