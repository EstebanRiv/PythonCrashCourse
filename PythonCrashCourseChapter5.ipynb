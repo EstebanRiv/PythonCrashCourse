{
 "cells": [
  {
   "cell_type": "markdown",
   "metadata": {},
   "source": [
    "# Python Crash Course\n",
    "A Hands-on, Project-based Introduction to Programming by Eric Matthes\n",
    "\n",
    "# Chapter 5 - If Statements"
   ]
  },
  {
   "cell_type": "markdown",
   "metadata": {},
   "source": [
    "## ⚠️ 5-1. Conditional Tests\n",
    "Write a series of conditional tests. Print a statement describing each test and your prediction for the results of each test. Your code should look something like this:\n",
    "\n",
    "```python\n",
    "car = 'subaru'\n",
    "print(\"Is car == 'subaru'? I predict True.\")\n",
    "print(car == 'subaru')\n",
    "print(\"\\nIs car == 'audi'? I predict False.\")\n",
    "print(car == 'audi')\n",
    "```\n",
    "\n",
    "- Look closely at your results, and make sure you understand why each line evaluates to True or False.\n",
    "- Create at least 10 tests. Have at least 5 tests evaluate to True and another 5 tests evaluate to False."
   ]
  },
  {
   "cell_type": "code",
   "execution_count": 1,
   "metadata": {},
   "outputs": [
    {
     "name": "stdout",
     "output_type": "stream",
     "text": [
      "is pizza == 'pepperoni'? I predict True.\n",
      "True\n",
      "is pizza == 'PEpperoni'? I predict False.\n",
      "False\n",
      "is pizza == 'veggie'? I predict False.\n",
      "False\n",
      "is pizza == 'VEggie'? I predict False.\n",
      "False\n",
      "is pizza != 'veggie'? I predict True.\n",
      "True\n"
     ]
    }
   ],
   "source": [
    "pizza = \"pepperoni\"\n",
    "print (\"is pizza == 'pepperoni'? I predict True.\")\n",
    "print (pizza == \"pepperoni\")\n",
    "\n",
    "print (\"is pizza == 'PEpperoni'? I predict False.\")\n",
    "print (pizza == \"PEpperoni\")\n",
    "\n",
    "print (\"is pizza == 'veggie'? I predict False.\")\n",
    "print (pizza == \"veggie\")\n",
    "\n",
    "print (\"is pizza == 'VEggie'? I predict False.\")\n",
    "print (pizza == \"VEggie\")\n",
    "\n",
    "print (\"is pizza != 'veggie'? I predict True.\")\n",
    "print (pizza != \"veggie\")"
   ]
  },
  {
   "cell_type": "markdown",
   "metadata": {},
   "source": [
    "## ⚠️ 5-2. More Conditional Tests\n",
    "You don’t have to limit the number of tests you create to 10. If you want to try more comparisons, write more tests and add them to conditional_tests.py. Have at least one True and one False result for each of the following:\n",
    "\n",
    "- Tests for equality and inequality with strings\n",
    "- Tests using the lower() function\n",
    "- Numerical tests involving equality and inequality, greater than and less than, greater than or equal to, and less than or equal to\n",
    "- Tests using the and keyword and the or keyword\n",
    "- Test whether an item is in a list\n",
    "- Test whether an item is not in a list"
   ]
  },
  {
   "cell_type": "code",
   "execution_count": 2,
   "metadata": {},
   "outputs": [
    {
     "name": "stdout",
     "output_type": "stream",
     "text": [
      "pizza == \"Pepperoni\"\n",
      "pizza != \"Veggie\"\n",
      "pizza == \"pepperoni\"\n",
      "pizza != \"veggie\"\n",
      "number == 26? True\n",
      "number >= 26? True\n",
      "number <= 26? True\n",
      "Jimny 4th generation\n",
      "Car is either a Jimny or it was manufactured in year 2020 or above\n",
      "Yes, we have it.\n",
      "No, it is not available.\n"
     ]
    }
   ],
   "source": [
    "pizza = \"Pepperoni\"\n",
    "\n",
    "# Equality and Inequality with strings\n",
    "if pizza == \"Pepperoni\":\n",
    "    print('pizza == \"Pepperoni\"')\n",
    "if pizza != \"Veggie\":\n",
    "    print('pizza != \"Veggie\"')\n",
    "\n",
    "# Tests using the lower() function\n",
    "if pizza.lower() == \"pepperoni\":\n",
    "    print('pizza == \"pepperoni\"')\n",
    "if pizza.lower() != \"veggie\":\n",
    "    print('pizza != \"veggie\"')\n",
    "\n",
    "# Numerical tests using ==, !=, >, <, >=, <=\n",
    "number = 26\n",
    "\n",
    "if number == 26:\n",
    "    print(\"number == 26? \" + str(number == 26))\n",
    "if number != 26:\n",
    "    print(\"number != 26? \" + str(number != 26))\n",
    "if number > 26:\n",
    "    print(\"number > 26? \" + str(number > 26))\n",
    "if number < 26:\n",
    "    print(\"number < 26? \" + str(number < 26))\n",
    "if number >= 26:\n",
    "    print(\"number >= 26? \" + str(number >= 26))\n",
    "if number <= 26:\n",
    "    print(\"number <= 26? \" + str(number <= 26))\n",
    "\n",
    "# Tests using the \"and\" and \"or\" keywords\n",
    "car = \"Jimny\"\n",
    "car2 = \"Prado\"\n",
    "year = 2021\n",
    "\n",
    "if (car == \"Jimny\") and (year >= 2020):\n",
    "    print(\"Jimny 4th generation\")\n",
    "if (car2 == \"Jimny\") or (year >= 2020):\n",
    "    print(\"Car is either a Jimny or it was manufactured in year 2020 or above\")\n",
    "\n",
    "# Test whether an item is in a list\n",
    "cars = [\"suzuki\",\"toyota\",\"honda\",\"mitsubishi\",\"nissan\"]\n",
    "\n",
    "if (\"suzuki\" in cars):\n",
    "    print(\"Yes, we have it.\")\n",
    "if (\"audi\" not in cars):\n",
    "    print(\"No, it is not available.\")"
   ]
  },
  {
   "cell_type": "markdown",
   "metadata": {},
   "source": [
    "## ⚠️ 5-3. Alien Colors #1\n",
    "Imagine an alien was just shot down in a game. Create a variable called alien_color and assign it a value of 'green', 'yellow', or 'red'.\n",
    "\n",
    "- Write an if statement to test whether the alien’s color is green. If it is, print a message that the player just earned 5 points.\n",
    "- Write one version of this program that passes the if test and another that fails. (The version that fails will have no output.)"
   ]
  },
  {
   "cell_type": "code",
   "execution_count": 3,
   "metadata": {},
   "outputs": [
    {
     "name": "stdout",
     "output_type": "stream",
     "text": [
      "Earned 5 points!\n"
     ]
    }
   ],
   "source": [
    "alienColor = \"green\"\n",
    "\n",
    "if (alienColor == \"green\"):\n",
    "    print(\"Earned 5 points!\")\n",
    "\n",
    "alienColor = \"red\"\n",
    "\n",
    "if (alienColor == \"green\"):\n",
    "    print(\"Earned 5 points!\")"
   ]
  },
  {
   "cell_type": "markdown",
   "metadata": {},
   "source": [
    "## ⚠️ 5-4. Alien Colors #2\n",
    "Choose a color for an alien as you did in Exercise 5-3, and write an if - else chain.\n",
    "\n",
    "- If the alien’s color is green, print a statement that the player just earned 5 points for shooting the alien.\n",
    "- If the alien’s color isn’t green, print a statement that the player just earned 10 points.\n",
    "- Write one version of this program that runs the if block and another that runs the else block."
   ]
  },
  {
   "cell_type": "code",
   "execution_count": 4,
   "metadata": {},
   "outputs": [
    {
     "name": "stdout",
     "output_type": "stream",
     "text": [
      "Earned 5 points!\n",
      "Earned 10 points!\n"
     ]
    }
   ],
   "source": [
    "alienColor = \"green\"\n",
    "\n",
    "if (alienColor == \"green\"):\n",
    "    print(\"Earned 5 points!\")\n",
    "else:\n",
    "    print(\"Earned 10 points!\")\n",
    "\n",
    "alienColor = \"red\"\n",
    "\n",
    "if (alienColor == \"green\"):\n",
    "    print(\"Earned 5 points!\")\n",
    "else:\n",
    "    print(\"Earned 10 points!\")"
   ]
  },
  {
   "cell_type": "markdown",
   "metadata": {},
   "source": [
    "## ⚠️ 5-5. Alien Colors #3\n",
    "Turn your if - else chain from Exercise 5-4 into an if - elif - else chain.\n",
    "\n",
    "- If the alien is green, print a message that the player earned 5 points.\n",
    "- If the alien is yellow, print a message that the player earned 10 points.\n",
    "- If the alien is red, print a message that the player earned 15 points.\n",
    "- Write three versions of this program, making sure each message is printed for the appropriate color alien."
   ]
  },
  {
   "cell_type": "code",
   "execution_count": 5,
   "metadata": {},
   "outputs": [
    {
     "name": "stdout",
     "output_type": "stream",
     "text": [
      "Earned 5 points!\n",
      "Earned 10 points!\n",
      "Earned 15 points!\n"
     ]
    }
   ],
   "source": [
    "alienColor = \"green\"\n",
    "\n",
    "if (alienColor == \"green\"):\n",
    "    print(\"Earned 5 points!\")\n",
    "elif (alienColor == \"yellow\"):\n",
    "    print(\"Earned 10 points!\")\n",
    "else:\n",
    "    print(\"Earned 15 points!\")\n",
    "\n",
    "alienColor = \"yellow\"\n",
    "\n",
    "if (alienColor == \"green\"):\n",
    "    print(\"Earned 5 points!\")\n",
    "elif (alienColor == \"yellow\"):\n",
    "    print(\"Earned 10 points!\")\n",
    "else:\n",
    "    print(\"Earned 15 points!\")\n",
    "\n",
    "alienColor = \"red\"\n",
    "\n",
    "if (alienColor == \"green\"):\n",
    "    print(\"Earned 5 points!\")\n",
    "elif (alienColor == \"yellow\"):\n",
    "    print(\"Earned 10 points!\")\n",
    "else:\n",
    "    print(\"Earned 15 points!\")"
   ]
  },
  {
   "cell_type": "markdown",
   "metadata": {},
   "source": [
    "## ⚠️ 5-6. Stages of Life\n",
    "Write an if - elif - else chain that determines a person’s stage of life. Set a value for the variable age , and then:\n",
    "\n",
    "- If the person is less than 2 years old, print a message that the person is a baby.\n",
    "- If the person is at least 2 years old but less than 4, print a message that the person is a toddler.\n",
    "- If the person is at least 4 years old but less than 13, print a message that the person is a kid.\n",
    "- If the person is at least 13 years old but less than 20, print a message that the person is a teenager.\n",
    "- If the person is at least 20 years old but less than 65, print a message that the person is an adult.\n",
    "- If the person is age 65 or older, print a message that the person is an elder."
   ]
  },
  {
   "cell_type": "code",
   "execution_count": 6,
   "metadata": {},
   "outputs": [
    {
     "name": "stdout",
     "output_type": "stream",
     "text": [
      "adult\n"
     ]
    }
   ],
   "source": [
    "age = 25\n",
    "\n",
    "if (age < 2):\n",
    "    print(\"baby\")\n",
    "elif (age <= 2) and (age < 4):\n",
    "    print(\"toddler\")\n",
    "elif (age >= 4) and (age < 13):\n",
    "    print(\"kid\")\n",
    "elif (age >= 13) and (age < 20):\n",
    "    print(\"teenager\")\n",
    "elif (age >= 20) and (age < 65):\n",
    "    print(\"adult\")\n",
    "elif (age >= 65):\n",
    "    print(\"elder\")"
   ]
  },
  {
   "cell_type": "markdown",
   "metadata": {},
   "source": [
    "## ⚠️ 5-7. Favorite Fruit\n",
    "Make a list of your favorite fruits, and then write a series of independent if statements that check for certain fruits in your list.\n",
    "\n",
    "- Make a list of your three favorite fruits and call it favorite_fruits.\n",
    "- Write five if statements. Each should check whether a certain kind of fruit is in your list. If the fruit is in your list, the if block should print a statement,\n",
    "such as You really like bananas!"
   ]
  },
  {
   "cell_type": "code",
   "execution_count": 7,
   "metadata": {},
   "outputs": [
    {
     "name": "stdout",
     "output_type": "stream",
     "text": [
      "You really like bananas!\n",
      "You really like apples!\n",
      "You really like watermelons!\n"
     ]
    }
   ],
   "source": [
    "favoriteFruits = [\"bananas\",\"watermelons\",\"apples\"]\n",
    "\n",
    "if (\"bananas\" in favoriteFruits):\n",
    "    print(\"You really like bananas!\")\n",
    "if (\"apples\" in favoriteFruits):\n",
    "    print(\"You really like apples!\")\n",
    "if (\"grapes\" in favoriteFruits):\n",
    "    print(\"You really like grapes!\")\n",
    "if (\"blueberries\" in favoriteFruits):\n",
    "    print(\"You really like blueberries!\")\n",
    "if (\"watermelons\" in favoriteFruits):\n",
    "    print(\"You really like watermelons!\")"
   ]
  },
  {
   "cell_type": "markdown",
   "metadata": {},
   "source": [
    "## ⚠️ 5-8. Hello Admin\n",
    "Make a list of five or more usernames, including the name 'admin' . Imagine you are writing code that will print a greeting to each user after they log in to a website. Loop through the list, and print a greeting to each user:\n",
    "\n",
    "- If the username is 'admin' , print a special greeting, such as Hello admin, would you like to see a status report?\n",
    "- Otherwise, print a generic greeting, such as Hello Eric, thank you for logging in again."
   ]
  },
  {
   "cell_type": "code",
   "execution_count": 8,
   "metadata": {},
   "outputs": [
    {
     "name": "stdout",
     "output_type": "stream",
     "text": [
      "Hello user1, thank you for logging in again.\n",
      "Hello user2, thank you for logging in again.\n",
      "Hello user3, thank you for logging in again.\n",
      "Hello user4, thank you for logging in again.\n",
      "Hello admin, would you like to see a status report?\n"
     ]
    }
   ],
   "source": [
    "usernameList = [\"user1\",\"user2\",\"user3\",\"user4\",\"admin\"]\n",
    "\n",
    "for username in usernameList:\n",
    "    if (username == \"admin\"):\n",
    "        print(\"Hello \" + username + \", would you like to see a status report?\")\n",
    "    else:\n",
    "        print(\"Hello \" + username + \", thank you for logging in again.\")"
   ]
  },
  {
   "cell_type": "markdown",
   "metadata": {},
   "source": [
    "## ⚠️ 5-9. No Users\n",
    "Add an if test to hello_admin.py to make sure the list of users is not empty.\n",
    "\n",
    "- If the list is empty, print the message We need to find some users!\n",
    "- Remove all of the usernames from your list, and make sure the correct message is printed."
   ]
  },
  {
   "cell_type": "code",
   "execution_count": 9,
   "metadata": {},
   "outputs": [
    {
     "name": "stdout",
     "output_type": "stream",
     "text": [
      "Hello user1, thank you for logging in again.\n",
      "Hello user2, thank you for logging in again.\n",
      "Hello user3, thank you for logging in again.\n",
      "Hello user4, thank you for logging in again.\n",
      "Hello admin, would you like to see a status report?\n",
      "No usernames found.\n"
     ]
    }
   ],
   "source": [
    "usernameList = [\"user1\",\"user2\",\"user3\",\"user4\",\"admin\"]\n",
    "\n",
    "if usernameList:\n",
    "    for username in usernameList:\n",
    "        if (username == \"admin\"):\n",
    "            print(\"Hello \" + username + \", would you like to see a status report?\")\n",
    "        else:\n",
    "            print(\"Hello \" + username + \", thank you for logging in again.\")\n",
    "\n",
    "# Clear the username list and try again\n",
    "usernameList = []\n",
    "\n",
    "if usernameList:\n",
    "    for username in usernameList:\n",
    "        if (username == \"admin\"):\n",
    "            print(\"Hello \" + username + \", would you like to see a status report?\")\n",
    "        else:\n",
    "            print(\"Hello \" + username + \", thank you for logging in again.\")\n",
    "else:\n",
    "    print(\"No usernames found.\")"
   ]
  },
  {
   "cell_type": "markdown",
   "metadata": {},
   "source": [
    "## ⚠️ 5-10. Checking Usernames\n",
    "Do the following to create a program that simulates how websites ensure that everyone has a unique username.\n",
    "\n",
    "- Make a list of five or more usernames called current_users.\n",
    "- Make another list of five usernames called new_users . Make sure one or two of the new usernames are also in the current_users list.\n",
    "- Loop through the new_users list to see if each new username has already been used. If it has, print a message that the person will need to enter a new username. If a username has not been used, print a message saying that the username is available.\n",
    "- Make sure your comparison is case insensitive. If 'John' has been used, 'JOHN' should not be accepted."
   ]
  },
  {
   "cell_type": "code",
   "execution_count": 10,
   "metadata": {},
   "outputs": [
    {
     "name": "stdout",
     "output_type": "stream",
     "text": [
      "Username user5 is avaiable.\n",
      "Username user6 is avaiable.\n",
      "Username user3 already exists. Please create a new username.\n",
      "Username user4 already exists. Please create a new username.\n",
      "Current usernames = ['user1', 'user2', 'user3', 'user4', 'admin', 'user5', 'user6']\n"
     ]
    }
   ],
   "source": [
    "currentUsers = [\"user1\",\"user2\",\"user3\",\"user4\",\"admin\"]\n",
    "newUsers = [\"user5\",\"user6\",\"USER3\",\"UseR4\"]\n",
    "\n",
    "if (currentUsers.count != 0):\n",
    "    if (newUsers.count != 0):\n",
    "        for username in newUsers:\n",
    "            if (username.lower() in currentUsers):\n",
    "                print(\"Username \" + username.lower() + \" already exists. Please create a new username.\")\n",
    "            else:\n",
    "                # add username to currentUsers list\n",
    "                print(\"Username \" + username.lower() + \" is avaiable.\")\n",
    "                currentUsers.append(username.lower())\n",
    "else:\n",
    "    # add username to currentUsers list\n",
    "    currentUsers.append(username.lower())\n",
    "\n",
    "print(\"Current usernames = \" + str(currentUsers))"
   ]
  },
  {
   "cell_type": "markdown",
   "metadata": {},
   "source": [
    "## ⚠️ 5-11. Ordinal Numbers\n",
    "Ordinal numbers indicate their position in a list, such as 1st or 2nd. Most ordinal numbers end in th, except 1, 2, and 3.\n",
    "\n",
    "- Store the numbers 1 through 9 in a list.\n",
    "- Loop through the list.\n",
    "- Use an if - elif - else chain inside the loop to print the proper ordinal ending for each number. Your output should read *1st 2nd 3rd 4th 5th 6th 7th 8th 9th* , and each result should be on a separate line."
   ]
  },
  {
   "cell_type": "code",
   "execution_count": 11,
   "metadata": {},
   "outputs": [
    {
     "name": "stdout",
     "output_type": "stream",
     "text": [
      "Number list:\n",
      "[1, 2, 3, 4, 5, 6, 7, 8, 9]\n",
      "1st\n",
      "2nd\n",
      "3rd\n",
      "4th\n",
      "5th\n",
      "6th\n",
      "7th\n",
      "8th\n",
      "9th\n"
     ]
    }
   ],
   "source": [
    "numbers = list(range(1,10))\n",
    "\n",
    "print(\"Number list:\")\n",
    "print(numbers)\n",
    "\n",
    "ordinalNumbers = []\n",
    "\n",
    "for number in numbers:\n",
    "    if number == 1:\n",
    "        ordinalNumber = (str(number) + \"st\")\n",
    "    elif number == 2:\n",
    "        ordinalNumber = (str(number) + \"nd\")\n",
    "    elif number == 3:\n",
    "        ordinalNumber = (str(number) + \"rd\")\n",
    "    else:\n",
    "        ordinalNumber = (str(number) + \"th\")\n",
    "\n",
    "    print(ordinalNumber)\n",
    "    ordinalNumbers.append(ordinalNumber)"
   ]
  },
  {
   "cell_type": "markdown",
   "metadata": {},
   "source": [
    "## ⚠️ 5-12. Styling if statements\n",
    "Review the programs you wrote in this chapter, and make sure you styled your conditional tests appropriately."
   ]
  },
  {
   "cell_type": "code",
   "execution_count": 12,
   "metadata": {},
   "outputs": [],
   "source": [
    "# Nothing to do."
   ]
  },
  {
   "cell_type": "markdown",
   "metadata": {},
   "source": [
    "## ⚠️ 5-13. Your Ideas\n",
    "At this point, you’re a more capable programmer than you were when you started this book. Now that you have a better sense of how real-world situations are modeled in programs, you might be thinking of some problems you could solve with your own programs. Record any new ideas you have about problems you might want to solve as your programming skills continue to improve. Consider games you might want to write, data sets you might want to explore, and web applications you’d like to create."
   ]
  },
  {
   "cell_type": "code",
   "execution_count": 13,
   "metadata": {},
   "outputs": [],
   "source": [
    "# Nothing to do."
   ]
  },
  {
   "cell_type": "markdown",
   "metadata": {},
   "source": [
    "## ⚠️ Extra. Test or try what you learned\n",
    "Test what you learned or you are trying to remember after not programming in python for a while."
   ]
  },
  {
   "cell_type": "code",
   "execution_count": 16,
   "metadata": {},
   "outputs": [
    {
     "name": "stdout",
     "output_type": "stream",
     "text": [
      "Hello from the 'elif' statement\n"
     ]
    }
   ],
   "source": [
    "# Syntax\n",
    "value1 = 11\n",
    "value2 = 22\n",
    "\n",
    "if (value1 == 10) and (value2 == 20):\n",
    "    print(\"Hello from the 'if' statement\")\n",
    "elif (value1 == 11) and (value2 == 22):\n",
    "    print(\"Hello from the 'elif' statement\")\n",
    "else:\n",
    "    print(\"Hello from the 'else' statement\")\n",
    "\n",
    "# Comparison operators (same ones as C/C++/C#)\n",
    "#   ==, !=, >, <, =>, =<"
   ]
  }
 ],
 "metadata": {
  "interpreter": {
   "hash": "b89b5cfaba6639976dc87ff2fec6d58faec662063367e2c229c520fe71072417"
  },
  "kernelspec": {
   "display_name": "Python 3.10.0 64-bit",
   "name": "python3"
  },
  "language_info": {
   "codemirror_mode": {
    "name": "ipython",
    "version": 3
   },
   "file_extension": ".py",
   "mimetype": "text/x-python",
   "name": "python",
   "nbconvert_exporter": "python",
   "pygments_lexer": "ipython3",
   "version": "3.8.10"
  },
  "orig_nbformat": 4
 },
 "nbformat": 4,
 "nbformat_minor": 2
}
