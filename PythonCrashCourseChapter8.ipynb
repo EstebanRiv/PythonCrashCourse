{
 "cells": [
  {
   "cell_type": "markdown",
   "metadata": {},
   "source": [
    "# Python Crash Course\n",
    "A Hands-on, Project-based Introduction to Programming by Eric Matthes\n",
    "\n",
    "# Chapter 8 - Functions"
   ]
  },
  {
   "cell_type": "markdown",
   "metadata": {},
   "source": [
    "## ⚠️ 8-1. Message\n",
    "Write a function called display_message() that prints one sentence telling everyone what you are learning about in this chapter. Call the function, and make sure the message displays correctly."
   ]
  },
  {
   "cell_type": "code",
   "execution_count": 1,
   "metadata": {},
   "outputs": [
    {
     "name": "stdout",
     "output_type": "stream",
     "text": [
      "In this chapter I'm learning about functions.\n"
     ]
    }
   ],
   "source": [
    "# Display Message function\n",
    "def displayMessage():\n",
    "    \"\"\"Function to tell what I'm learning in this chapter.\"\"\"\n",
    "    print(\"In this chapter I'm learning about functions.\")\n",
    "\n",
    "# Invoke the function\n",
    "displayMessage()"
   ]
  },
  {
   "cell_type": "markdown",
   "metadata": {},
   "source": [
    "## ⚠️ 8-2. Favorite Book\n",
    "Write a function called favorite_book() that accepts one parameter, title. The function should print a message, such as One of my favorite books is Alice in Wonderland. Call the function, making sure to include a book title as an argument in the function call."
   ]
  },
  {
   "cell_type": "code",
   "execution_count": 3,
   "metadata": {},
   "outputs": [
    {
     "name": "stdout",
     "output_type": "stream",
     "text": [
      "Atomic Habits has to be the best book of 2022.\n"
     ]
    }
   ],
   "source": [
    "# Display Message function\n",
    "def favoriteBook(bookTitleStr):\n",
    "    \"\"\"Function to print out the title of your favorite book\"\"\"\n",
    "    print(str(bookTitleStr) + \" has to be the best book of 2022.\")\n",
    "\n",
    "# Invoke the function\n",
    "favoriteBook(\"Atomic Habits\")"
   ]
  },
  {
   "cell_type": "markdown",
   "metadata": {},
   "source": [
    "## ⚠️ 8-3. T-Shirt\n",
    "Write a function called make_shirt() that accepts a size and the text of a message that should be printed on the shirt. The function should print a sentence summarizing the size of the shirt and the message printed on it. \n",
    "\n",
    "Call the function once using positional arguments to make a shirt. Call the\n",
    "function a second time using keyword arguments."
   ]
  },
  {
   "cell_type": "code",
   "execution_count": 5,
   "metadata": {},
   "outputs": [
    {
     "name": "stdout",
     "output_type": "stream",
     "text": [
      "Size = Small\n",
      "Custom Message = 日本語\n",
      "\n",
      "Size = Medium\n",
      "Custom Message = Japanese\n",
      "\n"
     ]
    }
   ],
   "source": [
    "def makeShirt(size, customMessage):\n",
    "    \"\"\"Funtion to order a customized shirt.\"\"\"\n",
    "    print(\"Size = \" + str(size))\n",
    "    print(\"Custom Message = \" + str(customMessage))\n",
    "    print(\"\")\n",
    "\n",
    "# Call using positional arguments\n",
    "makeShirt(\"Small\", \"日本語\")\n",
    "# Call using keyword arguments\n",
    "makeShirt(customMessage=\"Japanese\", size=\"Medium\")\n",
    "\n"
   ]
  },
  {
   "cell_type": "markdown",
   "metadata": {},
   "source": [
    "## ⚠️ 8-4. Large Shirts\n",
    "Modify the make_shirt() function so that shirts are large by default with a message that reads I love Python. Make a large shirt and a medium shirt with the default message, and a shirt of any size with a different message."
   ]
  },
  {
   "cell_type": "code",
   "execution_count": 8,
   "metadata": {},
   "outputs": [
    {
     "name": "stdout",
     "output_type": "stream",
     "text": [
      "Size = Large\n",
      "Custom Message = I Love Python (default)\n",
      "\n",
      "Size = Medium\n",
      "Custom Message = I Love Python (default)\n",
      "\n",
      "Size = Large (default)\n",
      "Custom Message = Japanese\n",
      "\n",
      "Size = Large (default)\n",
      "Custom Message = I Love Python (default)\n",
      "\n"
     ]
    }
   ],
   "source": [
    "def makeShirt(size=\"Large (default)\", customMessage=\"I Love Python (default)\"):\n",
    "    \"\"\"Funtion to order a customized shirt.\"\"\"\n",
    "    print(\"Size = \" + str(size))\n",
    "    print(\"Custom Message = \" + str(customMessage))\n",
    "    print(\"\")\n",
    "\n",
    "# Call using default Message\n",
    "makeShirt(size=\"Large\")\n",
    "makeShirt(size=\"Medium\")\n",
    "\n",
    "# Call using default size\n",
    "makeShirt(customMessage=\"Japanese\")\n",
    "\n",
    "# Call using both default parameters\n",
    "makeShirt()"
   ]
  },
  {
   "cell_type": "markdown",
   "metadata": {},
   "source": [
    "## ⚠️ 8-5. Cities\n",
    "Write a function called describe_city() that accepts the name of a city and its country. The function should print a simple sentence, such as Reykjavik is in Iceland. Give the parameter for the country a default value. \n",
    "\n",
    "Call your function for three different cities, at least one of which is not in the default country."
   ]
  },
  {
   "cell_type": "code",
   "execution_count": 12,
   "metadata": {},
   "outputs": [
    {
     "name": "stdout",
     "output_type": "stream",
     "text": [
      "Tokyo is in Japan (default)\n",
      "Nara is in Japan (default)\n",
      "London is in England\n"
     ]
    }
   ],
   "source": [
    "# Function definition\n",
    "def describeCity(city, country=\"Japan (default)\"):\n",
    "    print(city + \" is in \" + country)\n",
    "\n",
    "# Funtion Call\n",
    "describeCity(city=\"Tokyo\")\n",
    "describeCity(city=\"Nara\")\n",
    "describeCity(city=\"London\", country=\"England\")"
   ]
  },
  {
   "cell_type": "markdown",
   "metadata": {},
   "source": [
    "## ⚠️ 8-6. City Names\n",
    "Write a function called city_country() that takes in the name of a city and its country. The function should return a string formatted like this:\n",
    "\n",
    "\"Santiago, Chile\"\n",
    "\n",
    "Call your function with at least three city-country pairs, and print the value that’s returned."
   ]
  },
  {
   "cell_type": "code",
   "execution_count": 17,
   "metadata": {},
   "outputs": [
    {
     "name": "stdout",
     "output_type": "stream",
     "text": [
      "Santiago, Chile\n",
      "Los Angeles, United States\n",
      "Managua, Nicaragua\n"
     ]
    }
   ],
   "source": [
    "# Funtion definition\n",
    "def cityCountry(city, country):\n",
    "    return (city.title() + \", \" + country.title())\n",
    "\n",
    "returnValue = cityCountry(\"santiago\", \"chile\")\n",
    "print (returnValue)\n",
    "\n",
    "returnValue = cityCountry(\"los angeles\", \"United States\")\n",
    "print (returnValue)\n",
    "\n",
    "returnValue = cityCountry(\"managua\", \"nicaragua\")\n",
    "print (returnValue)"
   ]
  },
  {
   "cell_type": "markdown",
   "metadata": {},
   "source": [
    "## ⚠️ 8-7. Album\n",
    "Write a function called make_album() that builds a dictionary describing a music album. The function should take in an artist name and an album title, and it should return a dictionary containing these two pieces of information. Use the function to make three dictionaries representing different albums. Print each return value to show that the dictionaries are storing the album information correctly.\n",
    "\n",
    "Add an optional parameter to make_album() that allows you to store the number of tracks on an album. If the calling line includes a value for the number of tracks, add that value to the album’s dictionary. Make at least one new function call that includes the number of tracks on an album."
   ]
  },
  {
   "cell_type": "markdown",
   "metadata": {},
   "source": [
    "## ⚠️ 8-8. User Albums\n",
    "Start with your program from Exercise 8-7. Write a while loop that allows users to enter an album’s artist and title. Once you have that information, call make_album() with the user’s input and print the dictionary that’s created. Be sure to include a quit value in the while loop."
   ]
  },
  {
   "cell_type": "markdown",
   "metadata": {},
   "source": [
    "## ⚠️ 8-9. Magicians\n",
    "Make a list of magician’s names. Pass the list to a function called show_magicians(), which prints the name of each magician in the list."
   ]
  },
  {
   "cell_type": "markdown",
   "metadata": {},
   "source": [
    "## ⚠️ 8-10. Great Magicians\n",
    "Start with a copy of your program from Exercise 8-9. Write a function called make_great() that modifies the list of magicians by adding the phrase the Great to each magician’s name. Call show_magicians() to see that the list has actually been modified."
   ]
  },
  {
   "cell_type": "markdown",
   "metadata": {},
   "source": [
    "## ⚠️ 8-11. Unchanged Magicians\n",
    "Start with your work from Exercise 8-10. Call the function make_great() with a copy of the list of magicians’ names. Because the original list will be unchanged, return the new list and store it in a separate list. Call show_magicians() with each list to show that you have one list of the original names and one list with the Great added to each magician’s name."
   ]
  },
  {
   "cell_type": "markdown",
   "metadata": {},
   "source": [
    "## ⚠️ 8-12. Sandwiches\n",
    "Write a function that accepts a list of items a person wants on a sandwich. The function should have one parameter that collects as many items as the function call provides, and it should print a summary of the sandwich that is being ordered. Call the function three times, using a different number of arguments each time."
   ]
  },
  {
   "cell_type": "markdown",
   "metadata": {},
   "source": [
    "## ⚠️ 8-13. User Profile\n",
    "Start with a copy of user_profile.py from page 153. Build a profile of yourself by calling build_profile(), using your first and last names and three other key-value pairs that describe you."
   ]
  },
  {
   "cell_type": "markdown",
   "metadata": {},
   "source": [
    "## ⚠️ 8-14. Cars\n",
    "Write a function that stores information about a car in a dictionary. The function should always receive a manufacturer and a model name. It should then accept an arbitrary number of keyword arguments. Call the function with the required information and two other name-value pairs, such as a color or an optional feature. Your function should work for a call like this one:\n",
    "\n",
    "car = make_car('subaru', 'outback', color='blue', tow_package=True)\n",
    "\n",
    "Print the dictionary that’s returned to make sure all the information was stored correctly."
   ]
  },
  {
   "cell_type": "markdown",
   "metadata": {},
   "source": [
    "## ⚠️ 8-15. Printing Models\n",
    "Printing Models: Put the functions for the example print_models.py in a separate file called printing_functions.py. Write an import statement at the top of print_models.py, and modify the file to use the imported functions."
   ]
  },
  {
   "cell_type": "markdown",
   "metadata": {},
   "source": [
    "## ⚠️ 8-16. Imports\n",
    "Using a program you wrote that has one function in it, store that function in a separate file. Import the function into your main program file, and call the function using each of these approaches:\n",
    "\n",
    "- import module_name\n",
    "- from module_name import function_name\n",
    "- from module_name import function_name as fn\n",
    "- import module_name as mn\n",
    "- from module_name import *"
   ]
  },
  {
   "cell_type": "markdown",
   "metadata": {},
   "source": [
    "## ⚠️ 8-17. Styling Functions\n",
    "Choose any three programs you wrote for this chapter, and make sure they follow the styling guidelines described in this section."
   ]
  },
  {
   "cell_type": "markdown",
   "metadata": {},
   "source": [
    "## ⚠️ Extra. Test or try what you learned\n",
    "Test what you learned or you are trying to remember after not programming in python for a while."
   ]
  }
 ],
 "metadata": {
  "interpreter": {
   "hash": "b89b5cfaba6639976dc87ff2fec6d58faec662063367e2c229c520fe71072417"
  },
  "kernelspec": {
   "display_name": "Python 3.10.0 64-bit",
   "name": "python3"
  },
  "language_info": {
   "codemirror_mode": {
    "name": "ipython",
    "version": 3
   },
   "file_extension": ".py",
   "mimetype": "text/x-python",
   "name": "python",
   "nbconvert_exporter": "python",
   "pygments_lexer": "ipython3",
   "version": "3.10.0"
  },
  "orig_nbformat": 4
 },
 "nbformat": 4,
 "nbformat_minor": 2
}
