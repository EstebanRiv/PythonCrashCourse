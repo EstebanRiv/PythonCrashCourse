{
 "cells": [
  {
   "cell_type": "markdown",
   "metadata": {},
   "source": [
    "# Python Crash Course\n",
    "A Hands-on, Project-based Introduction to Programming by Eric Matthes"
   ]
  },
  {
   "cell_type": "markdown",
   "metadata": {},
   "source": [
    "# Chapter 2 - Variables and simple data types"
   ]
  },
  {
   "cell_type": "markdown",
   "metadata": {},
   "source": [
    "## ⚠️ 2-1. Simple Message\n",
    "Store a message in a variable, and then print that message"
   ]
  },
  {
   "cell_type": "code",
   "execution_count": 2,
   "metadata": {},
   "outputs": [
    {
     "name": "stdout",
     "output_type": "stream",
     "text": [
      "Python Crash Course\n"
     ]
    }
   ],
   "source": [
    "message = \"Python Crash Course\"\n",
    "print(message)"
   ]
  },
  {
   "cell_type": "markdown",
   "metadata": {},
   "source": [
    "## ⚠️ 2-2. Simple Messages\n",
    "Store a message in a variable, and print that message. Then change the value of your variable to a new message, and print the new message."
   ]
  },
  {
   "cell_type": "code",
   "execution_count": 3,
   "metadata": {},
   "outputs": [
    {
     "name": "stdout",
     "output_type": "stream",
     "text": [
      "Python Crash Course\n",
      "Python Crash Course by Eric Matthes\n"
     ]
    }
   ],
   "source": [
    "message = \"Python Crash Course\"\n",
    "print(message)\n",
    "message = \"Python Crash Course by Eric Matthes\"\n",
    "print(message)"
   ]
  },
  {
   "cell_type": "markdown",
   "metadata": {},
   "source": [
    "## ⚠️ 2-3. Personal Message\n",
    "Store a person's name in a variable, and print a message to that person. Your message should be simple, such as, \"Hello Eric, would you like to learn some Python today?\""
   ]
  },
  {
   "cell_type": "code",
   "execution_count": 4,
   "metadata": {},
   "outputs": [
    {
     "name": "stdout",
     "output_type": "stream",
     "text": [
      "Hello john doe, would you like to learn some Python today?\n"
     ]
    }
   ],
   "source": [
    "# Local variables\n",
    "name = \"john doe\"\n",
    "hello = \"Hello \"\n",
    "message = \", would you like to learn some Python today?\"\n",
    "\n",
    "# Print message\n",
    "print(hello + name + message)"
   ]
  },
  {
   "cell_type": "markdown",
   "metadata": {},
   "source": [
    "## ⚠️ 2-4. Name Cases\n",
    "Store a person’s name in a variable, and then print that person’s name in lowercase, uppercase, and titlecase."
   ]
  },
  {
   "cell_type": "code",
   "execution_count": 5,
   "metadata": {},
   "outputs": [
    {
     "name": "stdout",
     "output_type": "stream",
     "text": [
      "john doe\n",
      "JOHN DOE\n",
      "John Doe\n"
     ]
    }
   ],
   "source": [
    "# Local variables\n",
    "name = \"john doe\"\n",
    "\n",
    "# Print name\n",
    "print(name.lower())\n",
    "print(name.upper())\n",
    "print(name.title())"
   ]
  },
  {
   "cell_type": "markdown",
   "metadata": {},
   "source": [
    "## ⚠️ 2-5. Famous Quote\n",
    "Find a quote from a famous person you admire. Print the quote and the name of its author. Your output should look something like the following, including the quotation marks:\n",
    "\n",
    "*Albert Einstein once said, “A person who never made a mistake never tried anything new.”*"
   ]
  },
  {
   "cell_type": "code",
   "execution_count": 6,
   "metadata": {},
   "outputs": [
    {
     "name": "stdout",
     "output_type": "stream",
     "text": [
      "Albert Einstein once said, “A person who never made a mistake never tried anything new.”\n"
     ]
    }
   ],
   "source": [
    "# Local variables\n",
    "famousQuote = 'Albert Einstein once said, “A person who never made a mistake never tried anything new.”'\n",
    "\n",
    "print(famousQuote)"
   ]
  },
  {
   "cell_type": "markdown",
   "metadata": {},
   "source": [
    "## ⚠️ 2-6. Famous Quote 2\n",
    "Repeat Exercise 2-5, but this time store the famous person’s name in a variable called famous_person . Then compose your message and store it in a new variable called message . Print your message."
   ]
  },
  {
   "cell_type": "code",
   "execution_count": 7,
   "metadata": {},
   "outputs": [
    {
     "name": "stdout",
     "output_type": "stream",
     "text": [
      "Albert Einstein once said, “A person who never made a mistake never tried anything new.”\n"
     ]
    }
   ],
   "source": [
    "# Local variables\n",
    "famousPerson = 'Albert Einstein'\n",
    "famousQuote = ' once said, “A person who never made a mistake never tried anything new.”'\n",
    "\n",
    "print(famousPerson + famousQuote)"
   ]
  },
  {
   "cell_type": "markdown",
   "metadata": {},
   "source": [
    "## ⚠️ 2-7. Stripping Names\n",
    "Store a person’s name, and include some whitespace characters at the beginning and end of the name. Make sure you use each character combination, \"\\t\" and \"\\n\" , at least once.\n",
    "\n",
    "Print the name once, so the whitespace around the name is displayed. Then print the name using each of the three stripping functions, lstrip(), rstrip(), and strip()."
   ]
  },
  {
   "cell_type": "code",
   "execution_count": 8,
   "metadata": {},
   "outputs": [
    {
     "name": "stdout",
     "output_type": "stream",
     "text": [
      "--- Remove regular spaces ---\n",
      "\tname1.rstrip() =   John Doe\n",
      "\tname1.lstrip() = John Doe  \n",
      "\tname1.strip()  = John Doe\n",
      "\n",
      "\n",
      "--- Remove \\n character ---\n",
      "\tname2.rstrip() = \n",
      "John Doe\n",
      "\tname2.lstrip() = John Doe\n",
      "\n",
      "\tname2.strip()  = John Doe\n",
      "\n",
      "\n",
      "--- Remove combinations of \\t \\n characters ---\n",
      "\tname3.rstrip() = \t\n",
      "John Doe\n",
      "\tname3.lstrip() = John Doe\t\n",
      "\n",
      "\tname3.strip()  = John Doe\n",
      "\n",
      "\n",
      "--- Remove \\t character ---\n",
      "\tname5.rstrip() = \tJohn Doe\n",
      "\tname5.lstrip() = John Doe\t\n",
      "\tname5.strip()  = John Doe\n",
      "\n",
      "\n"
     ]
    }
   ],
   "source": [
    "# Local variables\n",
    "name1 = \"  John Doe  \"\n",
    "name2 = \"\\nJohn Doe\\n\"\n",
    "name3 = \"\\t\\nJohn Doe\\t\\n\"\n",
    "name5 = \"\\tJohn Doe\\t\"\n",
    "\n",
    "# Remove regular spaces\n",
    "print (\"--- Remove regular spaces ---\")\n",
    "print(\"\\tname1.rstrip() = \" + name1.rstrip())\n",
    "print(\"\\tname1.lstrip() = \" + name1.lstrip())\n",
    "print(\"\\tname1.strip()  = \" + name1.strip())\n",
    "print(\"\\n\")\n",
    "\n",
    "# Remove \\n caracter\n",
    "print (\"--- Remove \\\\n character ---\")\n",
    "print(\"\\tname2.rstrip() = \" + name2.rstrip())\n",
    "print(\"\\tname2.lstrip() = \" + name2.lstrip())\n",
    "print(\"\\tname2.strip()  = \" + name2.strip())\n",
    "print(\"\\n\")\n",
    "\n",
    "# Remove combinations of \\t \\n characters\n",
    "print (\"--- Remove combinations of \\\\t \\\\n characters ---\")\n",
    "print(\"\\tname3.rstrip() = \" + name3.rstrip())\n",
    "print(\"\\tname3.lstrip() = \" + name3.lstrip())\n",
    "print(\"\\tname3.strip()  = \" + name3.strip())\n",
    "print(\"\\n\")\n",
    "\n",
    "# Remove \\t caracter\n",
    "print (\"--- Remove \\\\t character ---\")\n",
    "print(\"\\tname5.rstrip() = \" + name5.rstrip())\n",
    "print(\"\\tname5.lstrip() = \" + name5.lstrip())\n",
    "print(\"\\tname5.strip()  = \" + name5.strip())\n",
    "print(\"\\n\")\n"
   ]
  },
  {
   "cell_type": "markdown",
   "metadata": {},
   "source": [
    "## ⚠️ 2-8. Number Eight\n",
    "Write addition, subtraction, multiplication, and division operations that each result in the number 8. Be sure to enclose your operations in print statements to see the results. You should create four lines that look\n",
    "like this:\n",
    "\n",
    "---\n",
    "print(5 + 3)\n",
    "\n",
    "---\n",
    "\n",
    "Your output should simply be four lines with the number 8 appearing once\n",
    "on each line"
   ]
  },
  {
   "cell_type": "code",
   "execution_count": 9,
   "metadata": {},
   "outputs": [
    {
     "name": "stdout",
     "output_type": "stream",
     "text": [
      "8\n",
      "8\n",
      "8\n",
      "8.0\n"
     ]
    }
   ],
   "source": [
    "# Addition\n",
    "print(5+3)\n",
    "# Substraction\n",
    "print(10-2)\n",
    "# Multiplication\n",
    "print(2*4)\n",
    "# Division\n",
    "print(16/2)"
   ]
  },
  {
   "cell_type": "markdown",
   "metadata": {},
   "source": [
    "## ⚠️ 2-9. Favorite Number\n",
    "Store your favorite number in a variable. Then, using that variable, create a message that reveals your favorite number. Print that message."
   ]
  },
  {
   "cell_type": "code",
   "execution_count": 10,
   "metadata": {},
   "outputs": [
    {
     "name": "stdout",
     "output_type": "stream",
     "text": [
      "FavoriteNumber = 35\n"
     ]
    }
   ],
   "source": [
    "# Local variables\n",
    "favoriteNumber = 35\n",
    "\n",
    "print(\"FavoriteNumber = \" + str(favoriteNumber))"
   ]
  },
  {
   "cell_type": "markdown",
   "metadata": {},
   "source": [
    "## ⚠️ 2-10. Adding Comments\n",
    "Choose two of the programs you’ve written, and add at least one comment to each. If you don’t have anything specific to write because your programs are too simple at this point, just add your name and the current date at the top of each program file. Then write one sentence\n",
    "describing what the program does."
   ]
  },
  {
   "cell_type": "code",
   "execution_count": 11,
   "metadata": {},
   "outputs": [
    {
     "data": {
      "text/plain": [
       "'\\n    File name: PythonCrashCourseChapter2.ipynb\\n    Author: John Doe\\n    Date created: 7/10/2021\\n    Date last modified: 7/10/2021\\n    Python Version: 3.8.10\\n'"
      ]
     },
     "execution_count": 11,
     "metadata": {},
     "output_type": "execute_result"
    }
   ],
   "source": [
    "'''\n",
    "    File name: PythonCrashCourseChapter2.ipynb\n",
    "    Author: John Doe\n",
    "    Date created: 7/10/2021\n",
    "    Date last modified: 7/10/2021\n",
    "    Python Version: 3.8.10\n",
    "'''"
   ]
  },
  {
   "cell_type": "markdown",
   "metadata": {},
   "source": [
    "## ⚠️ 2-11. Zen of Python\n",
    "Enter import this into a Python terminal session and skim through the additional principles."
   ]
  },
  {
   "cell_type": "code",
   "execution_count": 12,
   "metadata": {},
   "outputs": [
    {
     "name": "stdout",
     "output_type": "stream",
     "text": [
      "The Zen of Python, by Tim Peters\n",
      "\n",
      "Beautiful is better than ugly.\n",
      "Explicit is better than implicit.\n",
      "Simple is better than complex.\n",
      "Complex is better than complicated.\n",
      "Flat is better than nested.\n",
      "Sparse is better than dense.\n",
      "Readability counts.\n",
      "Special cases aren't special enough to break the rules.\n",
      "Although practicality beats purity.\n",
      "Errors should never pass silently.\n",
      "Unless explicitly silenced.\n",
      "In the face of ambiguity, refuse the temptation to guess.\n",
      "There should be one-- and preferably only one --obvious way to do it.\n",
      "Although that way may not be obvious at first unless you're Dutch.\n",
      "Now is better than never.\n",
      "Although never is often better than *right* now.\n",
      "If the implementation is hard to explain, it's a bad idea.\n",
      "If the implementation is easy to explain, it may be a good idea.\n",
      "Namespaces are one honking great idea -- let's do more of those!\n"
     ]
    }
   ],
   "source": [
    "import this"
   ]
  },
  {
   "cell_type": "markdown",
   "metadata": {},
   "source": [
    "## ⚠️ Extra. Test or try what you learned\n",
    "Test what you learned or you are trying to remember after not programming in python for a while."
   ]
  },
  {
   "cell_type": "code",
   "execution_count": 14,
   "metadata": {},
   "outputs": [
    {
     "name": "stdout",
     "output_type": "stream",
     "text": [
      "suzuki\n",
      "Suzuki\n",
      "SUZUKI\n",
      "False\n",
      "Como dice Figueres \"a mañanear tempranito\"\n",
      "hello world\n",
      "3\n",
      "hello3\n"
     ]
    }
   ],
   "source": [
    "''' \n",
    "    Block \n",
    "    comments\n",
    "'''\n",
    "\n",
    "# Declare variables using camelCase\n",
    "carBrandStr = \"suzuki\"\n",
    "# Print a value to console\n",
    "print(carBrandStr)\n",
    "\n",
    "# A ton of operations can be applied to a variable, check a few\n",
    "#carBrandStr.\n",
    "print(carBrandStr.capitalize())\n",
    "print(carBrandStr.upper())\n",
    "print(carBrandStr.isnumeric())\n",
    "\n",
    "# When printing message, both \" and ' are valid and they do not need to be escaped\n",
    "print('Como dice Figueres \"a mañanear tempranito\"')\n",
    "\n",
    "# Concatenar string\n",
    "helloStr = \"hello\"\n",
    "worldStr = \" world\"\n",
    "print(helloStr + worldStr)\n",
    "\n",
    "# Para imprimir numeros se tienen que convertir a string\n",
    "numberInt = 3\n",
    "print(numberInt)\n",
    "print(helloStr + str(numberInt))\n"
   ]
  }
 ],
 "metadata": {
  "interpreter": {
   "hash": "916dbcbb3f70747c44a77c7bcd40155683ae19c65e1c03b4aa3499c5328201f1"
  },
  "kernelspec": {
   "display_name": "Python 3.8.10 64-bit",
   "name": "python3"
  },
  "language_info": {
   "codemirror_mode": {
    "name": "ipython",
    "version": 3
   },
   "file_extension": ".py",
   "mimetype": "text/x-python",
   "name": "python",
   "nbconvert_exporter": "python",
   "pygments_lexer": "ipython3",
   "version": "3.8.10"
  },
  "orig_nbformat": 4
 },
 "nbformat": 4,
 "nbformat_minor": 2
}
