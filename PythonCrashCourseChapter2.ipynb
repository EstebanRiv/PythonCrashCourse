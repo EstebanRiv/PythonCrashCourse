{
 "cells": [
  {
   "cell_type": "markdown",
   "source": [
    "# Python Crash Course\n",
    "A Hands-on, Project-based Introduction to Programming by Eric Matthes"
   ],
   "metadata": {}
  },
  {
   "cell_type": "markdown",
   "source": [
    "# Chapter 2 - Variables and simple data types\n",
    "\n",
    "## 📚 Strings"
   ],
   "metadata": {}
  },
  {
   "cell_type": "markdown",
   "source": [
    "## ⚠️ 2-3. Personal Message\n",
    "Store a person's name in a variable, and print a message to that person. Your message should be simple, such as, \"Hello Eric, would you like to learn some Python today?\""
   ],
   "metadata": {}
  },
  {
   "cell_type": "code",
   "execution_count": 36,
   "source": [
    "# Local variables\n",
    "name = \"john doe\"\n",
    "hello = \"Hello \"\n",
    "message = \", would you like to learn some Python today?\"\n",
    "\n",
    "# Print message\n",
    "print(hello + name + message)"
   ],
   "outputs": [
    {
     "output_type": "stream",
     "name": "stdout",
     "text": [
      "Hello john doe, would you like to learn some Python today?\n"
     ]
    }
   ],
   "metadata": {}
  },
  {
   "cell_type": "markdown",
   "source": [
    "## ⚠️ 2-4. Name Cases\n",
    "Store a person’s name in a variable, and then print that person’s name in lowercase, uppercase, and titlecase."
   ],
   "metadata": {}
  },
  {
   "cell_type": "code",
   "execution_count": 37,
   "source": [
    "# Local variables\n",
    "name = \"john doe\"\n",
    "\n",
    "# Print name\n",
    "print(name.lower())\n",
    "print(name.upper())\n",
    "print(name.title())"
   ],
   "outputs": [
    {
     "output_type": "stream",
     "name": "stdout",
     "text": [
      "john doe\n",
      "JOHN DOE\n",
      "John Doe\n"
     ]
    }
   ],
   "metadata": {}
  },
  {
   "cell_type": "markdown",
   "source": [
    "## ⚠️ 2-5. Famous Quote\n",
    "Find a quote from a famous person you admire. Print the quote and the name of its author. Your output should look something like the following, including the quotation marks:\n",
    "\n",
    "*Albert Einstein once said, “A person who never made a mistake never tried anything new.”*"
   ],
   "metadata": {}
  },
  {
   "cell_type": "code",
   "execution_count": 38,
   "source": [
    "# Local variables\n",
    "famousQuote = 'Albert Einstein once said, “A person who never made a mistake never tried anything new.”'\n",
    "\n",
    "print(famousQuote)"
   ],
   "outputs": [
    {
     "output_type": "stream",
     "name": "stdout",
     "text": [
      "Albert Einstein once said, “A person who never made a mistake never tried anything new.”\n"
     ]
    }
   ],
   "metadata": {}
  },
  {
   "cell_type": "markdown",
   "source": [
    "## ⚠️ 2-6. Famous Quote 2\n",
    "Repeat Exercise 2-5, but this time store the famous person’s name in a variable called famous_person . Then compose your message and store it in a new variable called message . Print your message."
   ],
   "metadata": {}
  },
  {
   "cell_type": "code",
   "execution_count": 39,
   "source": [
    "# Local variables\n",
    "famousPerson = 'Albert Einstein'\n",
    "famousQuote = ' once said, “A person who never made a mistake never tried anything new.”'\n",
    "\n",
    "print(famousPerson + famousQuote)"
   ],
   "outputs": [
    {
     "output_type": "stream",
     "name": "stdout",
     "text": [
      "Albert Einstein once said, “A person who never made a mistake never tried anything new.”\n"
     ]
    }
   ],
   "metadata": {}
  },
  {
   "cell_type": "markdown",
   "source": [
    "## ⚠️ 2-7. Stripping Names\n",
    "Store a person’s name, and include some whitespace characters at the beginning and end of the name. Make sure you use each character combination, \"\\t\" and \"\\n\" , at least once.\n",
    "\n",
    "Print the name once, so the whitespace around the name is displayed. Then print the name using each of the three stripping functions, lstrip(), rstrip(), and strip()."
   ],
   "metadata": {}
  },
  {
   "cell_type": "code",
   "execution_count": 40,
   "source": [
    "# Local variables\n",
    "name1 = \"  John Doe  \"\n",
    "name2 = \"\\nJohn Doe\\n\"\n",
    "name3 = \"\\t\\nJohn Doe\\t\\n\"\n",
    "name5 = \"\\tJohn Doe\\t\"\n",
    "\n",
    "# Remove regular spaces\n",
    "print (\"--- Remove regular spaces ---\")\n",
    "print(\"\\tname1.rstrip() = \" + name1.rstrip())\n",
    "print(\"\\tname1.lstrip() = \" + name1.lstrip())\n",
    "print(\"\\tname1.strip()  = \" + name1.strip())\n",
    "print(\"\\n\")\n",
    "\n",
    "# Remove \\n caracter\n",
    "print (\"--- Remove \\\\n character ---\")\n",
    "print(\"\\tname2.rstrip() = \" + name2.rstrip())\n",
    "print(\"\\tname2.lstrip() = \" + name2.lstrip())\n",
    "print(\"\\tname2.strip()  = \" + name2.strip())\n",
    "print(\"\\n\")\n",
    "\n",
    "# Remove combinations of \\t \\n characters\n",
    "print (\"--- Remove combinations of \\\\t \\\\n characters ---\")\n",
    "print(\"\\tname3.rstrip() = \" + name3.rstrip())\n",
    "print(\"\\tname3.lstrip() = \" + name3.lstrip())\n",
    "print(\"\\tname3.strip()  = \" + name3.strip())\n",
    "print(\"\\n\")\n",
    "\n",
    "# Remove \\t caracter\n",
    "print (\"--- Remove \\\\t character ---\")\n",
    "print(\"\\tname5.rstrip() = \" + name5.rstrip())\n",
    "print(\"\\tname5.lstrip() = \" + name5.lstrip())\n",
    "print(\"\\tname5.strip()  = \" + name5.strip())\n",
    "print(\"\\n\")\n"
   ],
   "outputs": [
    {
     "output_type": "stream",
     "name": "stdout",
     "text": [
      "--- Remove regular spaces ---\n",
      "\tname1.rstrip() =   John Doe\n",
      "\tname1.lstrip() = John Doe  \n",
      "\tname1.strip()  = John Doe\n",
      "\n",
      "\n",
      "--- Remove \\n character ---\n",
      "\tname2.rstrip() = \n",
      "John Doe\n",
      "\tname2.lstrip() = John Doe\n",
      "\n",
      "\tname2.strip()  = John Doe\n",
      "\n",
      "\n",
      "--- Remove combinations of \\t \\n characters ---\n",
      "\tname3.rstrip() = \t\n",
      "John Doe\n",
      "\tname3.lstrip() = John Doe\t\n",
      "\n",
      "\tname3.strip()  = John Doe\n",
      "\n",
      "\n",
      "--- Remove \\t character ---\n",
      "\tname5.rstrip() = \tJohn Doe\n",
      "\tname5.lstrip() = John Doe\t\n",
      "\tname5.strip()  = John Doe\n",
      "\n",
      "\n"
     ]
    }
   ],
   "metadata": {}
  },
  {
   "cell_type": "markdown",
   "source": [
    "## ⚠️ 2-8. Number Eight\n",
    "Write addition, subtraction, multiplication, and division operations that each result in the number 8. Be sure to enclose your operations in print statements to see the results. You should create four lines that look\n",
    "like this:\n",
    "\n",
    "---\n",
    "print(5 + 3)\n",
    "\n",
    "---\n",
    "\n",
    "Your output should simply be four lines with the number 8 appearing once\n",
    "on each line"
   ],
   "metadata": {}
  },
  {
   "cell_type": "code",
   "execution_count": 41,
   "source": [
    "# Addition\n",
    "print(5+3)\n",
    "# Substraction\n",
    "print(10-2)\n",
    "# Multiplication\n",
    "print(2*4)\n",
    "# Division\n",
    "print(16/2)"
   ],
   "outputs": [
    {
     "output_type": "stream",
     "name": "stdout",
     "text": [
      "8\n",
      "8\n",
      "8\n",
      "8.0\n"
     ]
    }
   ],
   "metadata": {}
  },
  {
   "cell_type": "markdown",
   "source": [
    "## ⚠️ 2-9. Favorite Number\n",
    "Store your favorite number in a variable. Then, using that variable, create a message that reveals your favorite number. Print that message."
   ],
   "metadata": {}
  },
  {
   "cell_type": "code",
   "execution_count": 42,
   "source": [
    "# Local variables\n",
    "favoriteNumber = 35\n",
    "\n",
    "print(\"FavoriteNumber = \" + str(favoriteNumber))"
   ],
   "outputs": [
    {
     "output_type": "stream",
     "name": "stdout",
     "text": [
      "FavoriteNumber = 35\n"
     ]
    }
   ],
   "metadata": {}
  },
  {
   "cell_type": "markdown",
   "source": [
    "## ⚠️ 2-10. Adding Comments\n",
    "Choose two of the programs you’ve written, and add at least one comment to each. If you don’t have anything specific to write because your programs are too simple at this point, just add your name and the current date at the top of each program file. Then write one sentence\n",
    "describing what the program does."
   ],
   "metadata": {}
  },
  {
   "cell_type": "code",
   "execution_count": 43,
   "source": [
    "'''\n",
    "    File name: PythonCrashCourseChapter2.ipynb\n",
    "    Author: John Doe\n",
    "    Date created: 7/10/2021\n",
    "    Date last modified: 7/10/2021\n",
    "    Python Version: 3.8.10\n",
    "'''"
   ],
   "outputs": [
    {
     "output_type": "execute_result",
     "data": {
      "text/plain": [
       "'\\n    File name: PythonCrashCourseChapter2.ipynb\\n    Author: John Doe\\n    Date created: 7/10/2021\\n    Date last modified: 7/10/2021\\n    Python Version: 3.8.10\\n'"
      ]
     },
     "metadata": {},
     "execution_count": 43
    }
   ],
   "metadata": {}
  },
  {
   "cell_type": "markdown",
   "source": [
    "## ⚠️ 2-11. Zen of Python\n",
    "Enter import this into a Python terminal session and skim through the additional principles."
   ],
   "metadata": {}
  },
  {
   "cell_type": "code",
   "execution_count": 44,
   "source": [
    "import this"
   ],
   "outputs": [
    {
     "output_type": "stream",
     "name": "stdout",
     "text": [
      "The Zen of Python, by Tim Peters\n",
      "\n",
      "Beautiful is better than ugly.\n",
      "Explicit is better than implicit.\n",
      "Simple is better than complex.\n",
      "Complex is better than complicated.\n",
      "Flat is better than nested.\n",
      "Sparse is better than dense.\n",
      "Readability counts.\n",
      "Special cases aren't special enough to break the rules.\n",
      "Although practicality beats purity.\n",
      "Errors should never pass silently.\n",
      "Unless explicitly silenced.\n",
      "In the face of ambiguity, refuse the temptation to guess.\n",
      "There should be one-- and preferably only one --obvious way to do it.\n",
      "Although that way may not be obvious at first unless you're Dutch.\n",
      "Now is better than never.\n",
      "Although never is often better than *right* now.\n",
      "If the implementation is hard to explain, it's a bad idea.\n",
      "If the implementation is easy to explain, it may be a good idea.\n",
      "Namespaces are one honking great idea -- let's do more of those!\n"
     ]
    }
   ],
   "metadata": {}
  }
 ],
 "metadata": {
  "orig_nbformat": 4,
  "language_info": {
   "name": "python",
   "version": "3.8.10",
   "mimetype": "text/x-python",
   "codemirror_mode": {
    "name": "ipython",
    "version": 3
   },
   "pygments_lexer": "ipython3",
   "nbconvert_exporter": "python",
   "file_extension": ".py"
  },
  "kernelspec": {
   "name": "python3",
   "display_name": "Python 3.8.10 64-bit"
  },
  "interpreter": {
   "hash": "916dbcbb3f70747c44a77c7bcd40155683ae19c65e1c03b4aa3499c5328201f1"
  }
 },
 "nbformat": 4,
 "nbformat_minor": 2
}